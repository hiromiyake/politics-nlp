{
 "cells": [
  {
   "cell_type": "markdown",
   "metadata": {},
   "source": [
    "# Machine learning and natural language processing on politics texts\n",
    "\n",
    "## Hiro Miyake  \n",
    "\n",
    "### 4/4/2019"
   ]
  },
  {
   "cell_type": "markdown",
   "metadata": {},
   "source": [
    "# 1. Insights\n",
    "\n",
    "First of all, all the insights I derive here are based on the data at hand, so they only illuminate what is going on within the confines where the data came from. Extending the conclusions drawn here to other contexts may be inappropriate.\n",
    "\n",
    "I first list the insights obtained. After this section, I describe the steps and code used to arrive at these insights.\n",
    "\n",
    "## Insight 1: Republicans tweet about 'good', 'great', 'house' and 'tax', Democrats tweet about 'women', 'join', 'care' and 'family'\n",
    "\n",
    "This insight was gained by analyzing Twitter data. I applied standard text preprocessing to all of the tweets, used a bag of words approach along with term frequency-inverse document frequency (tfidf) and built a logistic regression model to predict the party of the tweeter. By examining the model coefficients, I was able to extract the most relevant words that predict party affiliation. From these words, it looks like Democrat tweets are more feminine and Republican tweets are more masculine, and the gender ratio of the two parties represented in the data are consistent with this view.\n",
    "\n",
    "## Insight 2: Women tweet alike more than men tweet alike\n",
    "\n",
    "I compiled all the tweets for each person in the data set and performed k-means clustering on the text data to see how each user are close to each other. Naively you might expect the clusters would split along party lines, but the most interesting clustering seems to be one where all the women are in one cluster, and all the men are in their own separate clusters. So perhaps women have a more consistent Twitter messaging trend compared to men.\n",
    "\n",
    "## Insight 3: Maryland bills that are enacted tend to be about replacing existing laws\n",
    "\n",
    "I wanted to determine the characteristics of bills that were enacted. This could be hugely useful for people who want certain laws enacted, because they can influence the bill so that it is likely to pass. Perhaps unsurprisingly, it was hard to find anything definitive (otherwise I should probably start my own consulting company to help people pass bills). Nonetheless, a logistic regression model on the bill text and other features seem to suggest that bills that pass tend to have the word \"replace\" in them. To say anything definitive, more analysis is necessary, but at a high level, this may mean that it is easier to change existing law rather than creating a new law where there are no existing laws on the matter at hand. So if you want a new law passed, you might want to tie it into an existing law and replace it rather than try to get a completely new law enacted."
   ]
  },
  {
   "cell_type": "markdown",
   "metadata": {},
   "source": [
    "# 2. Analysis and Code\n",
    "\n",
    "Insights 1 and 2 are based on the Twitter data, and insight 3 is based on the bill data. I am using Python 2."
   ]
  },
  {
   "cell_type": "markdown",
   "metadata": {},
   "source": [
    "Load all the libraries I use first."
   ]
  },
  {
   "cell_type": "code",
   "execution_count": 1,
   "metadata": {
    "collapsed": true
   },
   "outputs": [],
   "source": [
    "%matplotlib inline\n",
    "\n",
    "from collections import defaultdict\n",
    "\n",
    "import pandas as pd\n",
    "import numpy as np\n",
    "\n",
    "import string\n",
    "from nltk.stem import PorterStemmer\n",
    "from sklearn.feature_extraction.text import TfidfVectorizer\n",
    "from sklearn.cluster import KMeans\n",
    "\n",
    "import statsmodels.formula.api as smf\n",
    "from sklearn.metrics import roc_auc_score\n",
    "\n",
    "import matplotlib.pyplot as plt"
   ]
  },
  {
   "cell_type": "markdown",
   "metadata": {},
   "source": [
    "## 2.1 Insight 1 Analysis and Code\n",
    "\n",
    "First let's load the Twitter data."
   ]
  },
  {
   "cell_type": "code",
   "execution_count": 2,
   "metadata": {
    "collapsed": true
   },
   "outputs": [],
   "source": [
    "twitter = pd.read_csv('leg_twitter.csv')"
   ]
  },
  {
   "cell_type": "markdown",
   "metadata": {},
   "source": [
    "Let's take a look at the first few rows."
   ]
  },
  {
   "cell_type": "code",
   "execution_count": 3,
   "metadata": {
    "collapsed": false
   },
   "outputs": [
    {
     "data": {
      "text/html": [
       "<div>\n",
       "<style scoped>\n",
       "    .dataframe tbody tr th:only-of-type {\n",
       "        vertical-align: middle;\n",
       "    }\n",
       "\n",
       "    .dataframe tbody tr th {\n",
       "        vertical-align: top;\n",
       "    }\n",
       "\n",
       "    .dataframe thead th {\n",
       "        text-align: right;\n",
       "    }\n",
       "</style>\n",
       "<table border=\"1\" class=\"dataframe\">\n",
       "  <thead>\n",
       "    <tr style=\"text-align: right;\">\n",
       "      <th></th>\n",
       "      <th>Unnamed: 0</th>\n",
       "      <th>user_id</th>\n",
       "      <th>screen_name</th>\n",
       "      <th>id</th>\n",
       "      <th>text</th>\n",
       "      <th>retweet_count</th>\n",
       "      <th>favorite_count</th>\n",
       "      <th>entities</th>\n",
       "      <th>name</th>\n",
       "      <th>gender</th>\n",
       "      <th>party</th>\n",
       "    </tr>\n",
       "  </thead>\n",
       "  <tbody>\n",
       "    <tr>\n",
       "      <th>0</th>\n",
       "      <td>0</td>\n",
       "      <td>16256269</td>\n",
       "      <td>virginiafoxx</td>\n",
       "      <td>25221573803773952</td>\n",
       "      <td>The House is currently honoring Rep. Giffords ...</td>\n",
       "      <td>1</td>\n",
       "      <td>0</td>\n",
       "      <td>{\"symbols\": [], \"user_mentions\": [], \"hashtags...</td>\n",
       "      <td>Virginia Ann Foxx</td>\n",
       "      <td>female</td>\n",
       "      <td>republican</td>\n",
       "    </tr>\n",
       "    <tr>\n",
       "      <th>1</th>\n",
       "      <td>1</td>\n",
       "      <td>16256269</td>\n",
       "      <td>virginiafoxx</td>\n",
       "      <td>25212608336371712</td>\n",
       "      <td>China testing a new stealth fighter, while Def...</td>\n",
       "      <td>0</td>\n",
       "      <td>0</td>\n",
       "      <td>{\"symbols\": [], \"user_mentions\": [], \"hashtags...</td>\n",
       "      <td>Virginia Ann Foxx</td>\n",
       "      <td>female</td>\n",
       "      <td>republican</td>\n",
       "    </tr>\n",
       "    <tr>\n",
       "      <th>2</th>\n",
       "      <td>2</td>\n",
       "      <td>16256269</td>\n",
       "      <td>virginiafoxx</td>\n",
       "      <td>385845599708278784</td>\n",
       "      <td>Thank you to Capitol Police for keeping us saf...</td>\n",
       "      <td>8</td>\n",
       "      <td>6</td>\n",
       "      <td>{\"symbols\": [], \"user_mentions\": [], \"hashtags...</td>\n",
       "      <td>Virginia Ann Foxx</td>\n",
       "      <td>female</td>\n",
       "      <td>republican</td>\n",
       "    </tr>\n",
       "    <tr>\n",
       "      <th>3</th>\n",
       "      <td>3</td>\n",
       "      <td>16256269</td>\n",
       "      <td>virginiafoxx</td>\n",
       "      <td>28892770564</td>\n",
       "      <td>Interested in a nomination to a U.S. military/...</td>\n",
       "      <td>0</td>\n",
       "      <td>0</td>\n",
       "      <td>{\"symbols\": [], \"user_mentions\": [], \"hashtags...</td>\n",
       "      <td>Virginia Ann Foxx</td>\n",
       "      <td>female</td>\n",
       "      <td>republican</td>\n",
       "    </tr>\n",
       "    <tr>\n",
       "      <th>4</th>\n",
       "      <td>4</td>\n",
       "      <td>16256269</td>\n",
       "      <td>virginiafoxx</td>\n",
       "      <td>28799103005</td>\n",
       "      <td>At Mt Tabor HS in Forsyth County this morning ...</td>\n",
       "      <td>1</td>\n",
       "      <td>0</td>\n",
       "      <td>{\"symbols\": [], \"user_mentions\": [], \"hashtags...</td>\n",
       "      <td>Virginia Ann Foxx</td>\n",
       "      <td>female</td>\n",
       "      <td>republican</td>\n",
       "    </tr>\n",
       "  </tbody>\n",
       "</table>\n",
       "</div>"
      ],
      "text/plain": [
       "   Unnamed: 0   user_id   screen_name                  id  \\\n",
       "0           0  16256269  virginiafoxx   25221573803773952   \n",
       "1           1  16256269  virginiafoxx   25212608336371712   \n",
       "2           2  16256269  virginiafoxx  385845599708278784   \n",
       "3           3  16256269  virginiafoxx         28892770564   \n",
       "4           4  16256269  virginiafoxx         28799103005   \n",
       "\n",
       "                                                text  retweet_count  \\\n",
       "0  The House is currently honoring Rep. Giffords ...              1   \n",
       "1  China testing a new stealth fighter, while Def...              0   \n",
       "2  Thank you to Capitol Police for keeping us saf...              8   \n",
       "3  Interested in a nomination to a U.S. military/...              0   \n",
       "4  At Mt Tabor HS in Forsyth County this morning ...              1   \n",
       "\n",
       "   favorite_count                                           entities  \\\n",
       "0               0  {\"symbols\": [], \"user_mentions\": [], \"hashtags...   \n",
       "1               0  {\"symbols\": [], \"user_mentions\": [], \"hashtags...   \n",
       "2               6  {\"symbols\": [], \"user_mentions\": [], \"hashtags...   \n",
       "3               0  {\"symbols\": [], \"user_mentions\": [], \"hashtags...   \n",
       "4               0  {\"symbols\": [], \"user_mentions\": [], \"hashtags...   \n",
       "\n",
       "                name  gender       party  \n",
       "0  Virginia Ann Foxx  female  republican  \n",
       "1  Virginia Ann Foxx  female  republican  \n",
       "2  Virginia Ann Foxx  female  republican  \n",
       "3  Virginia Ann Foxx  female  republican  \n",
       "4  Virginia Ann Foxx  female  republican  "
      ]
     },
     "execution_count": 3,
     "metadata": {},
     "output_type": "execute_result"
    }
   ],
   "source": [
    "twitter.head()"
   ]
  },
  {
   "cell_type": "markdown",
   "metadata": {},
   "source": [
    "Let's see how many Republican and Democrat tweets there are in the data set."
   ]
  },
  {
   "cell_type": "code",
   "execution_count": 4,
   "metadata": {
    "collapsed": false
   },
   "outputs": [
    {
     "data": {
      "text/plain": [
       "republican    8626\n",
       "democrat      8432\n",
       "Name: party, dtype: int64"
      ]
     },
     "execution_count": 4,
     "metadata": {},
     "output_type": "execute_result"
    }
   ],
   "source": [
    "twitter.party.value_counts(dropna = False)"
   ]
  },
  {
   "cell_type": "markdown",
   "metadata": {},
   "source": [
    "The two classes are fairly evenly divided. That's good for class prediction.\n",
    "\n",
    "What I want to do is try to predict the party of the tweeter based on tweet features. By using a logistic regression model, I can look at the coefficients and determine which features are the most predictive and statistically significant.\n",
    "\n",
    "So let's binarize the party variable for prediction."
   ]
  },
  {
   "cell_type": "code",
   "execution_count": 5,
   "metadata": {
    "collapsed": true
   },
   "outputs": [],
   "source": [
    "twitter['party_binary'] = twitter.party.map(lambda x: 1 if x == 'democrat' else 0)"
   ]
  },
  {
   "cell_type": "markdown",
   "metadata": {},
   "source": [
    "Now let's do some preprocessing of the text of the tweets for prediction.\n",
    "\n",
    "I perform some standard text pre-processing to perform machine learning on text data.\n",
    "\n",
    "1. Convert text to Python string.\n",
    "2. Remove punctuation.\n",
    "3. Convert text to utf-8.\n",
    "4. Convert text to lowercase.\n",
    "5. Stem the words so that different tenses and such are counted as the same word.  \n",
    "https://www.datacamp.com/community/tutorials/stemming-lemmatization-python\n",
    "6. Remove stopwords. I have included Python magic words such as `pass` and `except`, although this is certainly a solvable problem.  \n",
    "https://pythonprogramming.net/stop-words-nltk-tutorial/  \n",
    "https://www.geeksforgeeks.org/removing-stop-words-nltk-python/\n",
    "7. Remove numbers from the text.\n",
    "\n",
    "For a quick analysis, these should be reasonable things to do."
   ]
  },
  {
   "cell_type": "code",
   "execution_count": 6,
   "metadata": {
    "collapsed": true
   },
   "outputs": [],
   "source": [
    "# https://www.geeksforgeeks.org/removing-stop-words-nltk-python/\n",
    "my_stopwords = {'ourselves', 'hers', 'between', 'yourself', 'but', 'again', 'there', 'about', 'once', 'during', 'out', 'very', 'having', 'with', 'they', 'own', 'an', 'be', 'some', 'for', 'do', 'its', 'yours', 'such', 'into', 'of', 'most', 'itself', 'other', 'off', 'is', 's', 'am', 'or', 'who', 'as', 'from', 'him', 'each', 'the', 'themselves', 'until', 'below', 'are', 'we', 'these', 'your', 'his', 'through', 'don', 'nor', 'me', 'were', 'her', 'more', 'himself', 'this', 'down', 'should', 'our', 'their', 'while', 'above', 'both', 'up', 'to', 'ours', 'had', 'she', 'all', 'no', 'when', 'at', 'any', 'before', 'them', 'same', 'and', 'been', 'have', 'in', 'will', 'on', 'does', 'yourselves', 'then', 'that', 'because', 'what', 'over', 'why', 'so', 'can', 'did', 'not', 'now', 'under', 'he', 'you', 'herself', 'has', 'just', 'where', 'too', 'only', 'myself', 'which', 'those', 'i', 'after', 'few', 'whom', 't', 'being', 'if', 'theirs', 'my', 'against', 'a', 'by', 'doing', 'it', 'how', 'further', 'was', 'here', 'than'}\n",
    "\n",
    "# Add other words to the list, like Python magic words\n",
    "my_stopwords.update({'pass','except'})\n",
    "\n",
    "porter = PorterStemmer()\n",
    "\n",
    "def text_preprocessing(x):\n",
    "    y = str(x).translate(None, string.punctuation).decode('utf-8').lower().split()\n",
    "    y = [porter.stem(w) for w in y if w not in my_stopwords]\n",
    "    y = [w for w in y if w not in my_stopwords and not w.isdigit()] # 2nd stopword cleaning for stemming issues\n",
    "    return ' '.join(y)"
   ]
  },
  {
   "cell_type": "code",
   "execution_count": 7,
   "metadata": {
    "collapsed": true
   },
   "outputs": [],
   "source": [
    "twitter_corpus = twitter['text'].map(text_preprocessing)"
   ]
  },
  {
   "cell_type": "markdown",
   "metadata": {},
   "source": [
    "Here's how the text was transformed."
   ]
  },
  {
   "cell_type": "code",
   "execution_count": 8,
   "metadata": {
    "collapsed": false
   },
   "outputs": [
    {
     "name": "stdout",
     "output_type": "stream",
     "text": [
      "Before: The House is currently honoring Rep. Giffords and those gunned down in Saturday's horrific violence.\n",
      "After: hous current honor rep gifford gun saturday horrif violenc\n"
     ]
    }
   ],
   "source": [
    "print 'Before: ' + twitter.text[0]\n",
    "print 'After: ' + twitter_corpus[0]"
   ]
  },
  {
   "cell_type": "markdown",
   "metadata": {},
   "source": [
    "Now I get the term frequency, inverse document frequency (tf-idf) of the corpus using bag of words. Naively you could use the number of occurences of a given word to predict, but this could favor tweets that are longer and therefore have more words in general. tf-idf accounts for this.  \n",
    "https://scikit-learn.org/stable/modules/feature_extraction.html  \n",
    "https://pythonprogramminglanguage.com/bag-of-words/  \n",
    "https://en.wikipedia.org/wiki/Tf%E2%80%93idf\n",
    "\n",
    "I restrict the number of words to the top 30, so that the model building behaves well on my laptop. Then I turn the tf-idf matrix into a pandas dataframe."
   ]
  },
  {
   "cell_type": "code",
   "execution_count": 9,
   "metadata": {
    "collapsed": false
   },
   "outputs": [
    {
     "name": "stderr",
     "output_type": "stream",
     "text": [
      "/Users/hiro/anaconda/lib/python2.7/site-packages/sklearn/feature_extraction/text.py:1059: FutureWarning: Conversion of the second argument of issubdtype from `float` to `np.floating` is deprecated. In future, it will be treated as `np.float64 == np.dtype(float).type`.\n",
      "  if hasattr(X, 'dtype') and np.issubdtype(X.dtype, np.float):\n"
     ]
    }
   ],
   "source": [
    "twitter_vectorizer = TfidfVectorizer(max_features = 30)\n",
    "twitter_mat = twitter_vectorizer.fit_transform(twitter_corpus)"
   ]
  },
  {
   "cell_type": "code",
   "execution_count": 10,
   "metadata": {
    "collapsed": true
   },
   "outputs": [],
   "source": [
    "twitter_tfidf_df = pd.DataFrame(twitter_mat.toarray(), columns = twitter_vectorizer.get_feature_names())"
   ]
  },
  {
   "cell_type": "markdown",
   "metadata": {},
   "source": [
    "Here's what the tfidf dataframe looks like."
   ]
  },
  {
   "cell_type": "code",
   "execution_count": 11,
   "metadata": {
    "collapsed": false
   },
   "outputs": [
    {
     "data": {
      "text/html": [
       "<div>\n",
       "<style scoped>\n",
       "    .dataframe tbody tr th:only-of-type {\n",
       "        vertical-align: middle;\n",
       "    }\n",
       "\n",
       "    .dataframe tbody tr th {\n",
       "        vertical-align: top;\n",
       "    }\n",
       "\n",
       "    .dataframe thead th {\n",
       "        text-align: right;\n",
       "    }\n",
       "</style>\n",
       "<table border=\"1\" class=\"dataframe\">\n",
       "  <thead>\n",
       "    <tr style=\"text-align: right;\">\n",
       "      <th></th>\n",
       "      <th>american</th>\n",
       "      <th>amp</th>\n",
       "      <th>bill</th>\n",
       "      <th>care</th>\n",
       "      <th>congress</th>\n",
       "      <th>day</th>\n",
       "      <th>famili</th>\n",
       "      <th>get</th>\n",
       "      <th>good</th>\n",
       "      <th>great</th>\n",
       "      <th>...</th>\n",
       "      <th>support</th>\n",
       "      <th>tax</th>\n",
       "      <th>thank</th>\n",
       "      <th>time</th>\n",
       "      <th>today</th>\n",
       "      <th>us</th>\n",
       "      <th>vote</th>\n",
       "      <th>women</th>\n",
       "      <th>work</th>\n",
       "      <th>year</th>\n",
       "    </tr>\n",
       "  </thead>\n",
       "  <tbody>\n",
       "    <tr>\n",
       "      <th>0</th>\n",
       "      <td>0.0</td>\n",
       "      <td>0.0</td>\n",
       "      <td>0.0</td>\n",
       "      <td>0.0</td>\n",
       "      <td>0.0</td>\n",
       "      <td>0.0</td>\n",
       "      <td>0.0</td>\n",
       "      <td>0.0</td>\n",
       "      <td>0.0</td>\n",
       "      <td>0.0</td>\n",
       "      <td>...</td>\n",
       "      <td>0.0</td>\n",
       "      <td>0.0</td>\n",
       "      <td>0.000000</td>\n",
       "      <td>0.0</td>\n",
       "      <td>0.0</td>\n",
       "      <td>0.000000</td>\n",
       "      <td>0.0</td>\n",
       "      <td>0.0</td>\n",
       "      <td>0.0</td>\n",
       "      <td>0.0</td>\n",
       "    </tr>\n",
       "    <tr>\n",
       "      <th>1</th>\n",
       "      <td>0.0</td>\n",
       "      <td>0.0</td>\n",
       "      <td>0.0</td>\n",
       "      <td>0.0</td>\n",
       "      <td>0.0</td>\n",
       "      <td>0.0</td>\n",
       "      <td>0.0</td>\n",
       "      <td>0.0</td>\n",
       "      <td>0.0</td>\n",
       "      <td>0.0</td>\n",
       "      <td>...</td>\n",
       "      <td>0.0</td>\n",
       "      <td>0.0</td>\n",
       "      <td>0.000000</td>\n",
       "      <td>0.0</td>\n",
       "      <td>0.0</td>\n",
       "      <td>0.000000</td>\n",
       "      <td>0.0</td>\n",
       "      <td>0.0</td>\n",
       "      <td>0.0</td>\n",
       "      <td>0.0</td>\n",
       "    </tr>\n",
       "    <tr>\n",
       "      <th>2</th>\n",
       "      <td>0.0</td>\n",
       "      <td>0.0</td>\n",
       "      <td>0.0</td>\n",
       "      <td>0.0</td>\n",
       "      <td>0.0</td>\n",
       "      <td>0.0</td>\n",
       "      <td>0.0</td>\n",
       "      <td>0.0</td>\n",
       "      <td>0.0</td>\n",
       "      <td>0.0</td>\n",
       "      <td>...</td>\n",
       "      <td>0.0</td>\n",
       "      <td>0.0</td>\n",
       "      <td>0.679488</td>\n",
       "      <td>0.0</td>\n",
       "      <td>0.0</td>\n",
       "      <td>0.733686</td>\n",
       "      <td>0.0</td>\n",
       "      <td>0.0</td>\n",
       "      <td>0.0</td>\n",
       "      <td>0.0</td>\n",
       "    </tr>\n",
       "    <tr>\n",
       "      <th>3</th>\n",
       "      <td>0.0</td>\n",
       "      <td>0.0</td>\n",
       "      <td>0.0</td>\n",
       "      <td>0.0</td>\n",
       "      <td>0.0</td>\n",
       "      <td>0.0</td>\n",
       "      <td>0.0</td>\n",
       "      <td>0.0</td>\n",
       "      <td>0.0</td>\n",
       "      <td>0.0</td>\n",
       "      <td>...</td>\n",
       "      <td>0.0</td>\n",
       "      <td>0.0</td>\n",
       "      <td>0.000000</td>\n",
       "      <td>0.0</td>\n",
       "      <td>0.0</td>\n",
       "      <td>1.000000</td>\n",
       "      <td>0.0</td>\n",
       "      <td>0.0</td>\n",
       "      <td>0.0</td>\n",
       "      <td>0.0</td>\n",
       "    </tr>\n",
       "    <tr>\n",
       "      <th>4</th>\n",
       "      <td>0.0</td>\n",
       "      <td>0.0</td>\n",
       "      <td>0.0</td>\n",
       "      <td>0.0</td>\n",
       "      <td>0.0</td>\n",
       "      <td>0.0</td>\n",
       "      <td>0.0</td>\n",
       "      <td>0.0</td>\n",
       "      <td>0.0</td>\n",
       "      <td>0.0</td>\n",
       "      <td>...</td>\n",
       "      <td>0.0</td>\n",
       "      <td>0.0</td>\n",
       "      <td>0.000000</td>\n",
       "      <td>0.0</td>\n",
       "      <td>0.0</td>\n",
       "      <td>0.000000</td>\n",
       "      <td>0.0</td>\n",
       "      <td>0.0</td>\n",
       "      <td>0.0</td>\n",
       "      <td>0.0</td>\n",
       "    </tr>\n",
       "  </tbody>\n",
       "</table>\n",
       "<p>5 rows × 30 columns</p>\n",
       "</div>"
      ],
      "text/plain": [
       "   american  amp  bill  care  congress  day  famili  get  good  great  ...   \\\n",
       "0       0.0  0.0   0.0   0.0       0.0  0.0     0.0  0.0   0.0    0.0  ...    \n",
       "1       0.0  0.0   0.0   0.0       0.0  0.0     0.0  0.0   0.0    0.0  ...    \n",
       "2       0.0  0.0   0.0   0.0       0.0  0.0     0.0  0.0   0.0    0.0  ...    \n",
       "3       0.0  0.0   0.0   0.0       0.0  0.0     0.0  0.0   0.0    0.0  ...    \n",
       "4       0.0  0.0   0.0   0.0       0.0  0.0     0.0  0.0   0.0    0.0  ...    \n",
       "\n",
       "   support  tax     thank  time  today        us  vote  women  work  year  \n",
       "0      0.0  0.0  0.000000   0.0    0.0  0.000000   0.0    0.0   0.0   0.0  \n",
       "1      0.0  0.0  0.000000   0.0    0.0  0.000000   0.0    0.0   0.0   0.0  \n",
       "2      0.0  0.0  0.679488   0.0    0.0  0.733686   0.0    0.0   0.0   0.0  \n",
       "3      0.0  0.0  0.000000   0.0    0.0  1.000000   0.0    0.0   0.0   0.0  \n",
       "4      0.0  0.0  0.000000   0.0    0.0  0.000000   0.0    0.0   0.0   0.0  \n",
       "\n",
       "[5 rows x 30 columns]"
      ]
     },
     "execution_count": 11,
     "metadata": {},
     "output_type": "execute_result"
    }
   ],
   "source": [
    "twitter_tfidf_df.head()"
   ]
  },
  {
   "cell_type": "markdown",
   "metadata": {},
   "source": [
    "Now combine the tfidf dataframe with the `party_binary` column that I created from the original dataframe."
   ]
  },
  {
   "cell_type": "code",
   "execution_count": 12,
   "metadata": {
    "collapsed": true
   },
   "outputs": [],
   "source": [
    "twitter_party_df = pd.concat([twitter[['party_binary']], twitter_tfidf_df], axis = 1)"
   ]
  },
  {
   "cell_type": "markdown",
   "metadata": {},
   "source": [
    "Make sure the outcome variables still make sense, i.e., are only 0 or 1."
   ]
  },
  {
   "cell_type": "code",
   "execution_count": 13,
   "metadata": {
    "collapsed": false
   },
   "outputs": [
    {
     "data": {
      "text/plain": [
       "0    8626\n",
       "1    8432\n",
       "Name: party_binary, dtype: int64"
      ]
     },
     "execution_count": 13,
     "metadata": {},
     "output_type": "execute_result"
    }
   ],
   "source": [
    "twitter_party_df.party_binary.value_counts(dropna = False)"
   ]
  },
  {
   "cell_type": "markdown",
   "metadata": {},
   "source": [
    "These are the same numbers I found with the original party column, so things are looking good."
   ]
  },
  {
   "cell_type": "markdown",
   "metadata": {},
   "source": [
    "I use logistic regression to predict the party from the text. This allows me to extract the important words to predict both parties. The important thing here for me is interpretability rather than prediction accuracy. If I wanted good prediction accuracy, I could have used for example a random forest model.\n",
    "\n",
    "In particular, I use the statsmodels library, which has a logistic regression routine and an interface similar to R.  \n",
    "https://www.statsmodels.org/stable/index.html\n",
    "\n",
    "First I have to build the formula."
   ]
  },
  {
   "cell_type": "code",
   "execution_count": 14,
   "metadata": {
    "collapsed": false
   },
   "outputs": [
    {
     "name": "stdout",
     "output_type": "stream",
     "text": [
      "party_binary ~ american + amp + bill + care + congress + day + famili + get + good + great + help + hous + join + live + make + need + new + peopl + rt + see + support + tax + thank + time + today + us + vote + women + work + year\n"
     ]
    }
   ],
   "source": [
    "twitter_formula = 'party_binary ~ american'\n",
    "for i, col in enumerate(twitter_party_df):\n",
    "    if col != 'party_binary' and col != 'american':\n",
    "        twitter_formula = twitter_formula + ' + ' + col\n",
    "print twitter_formula"
   ]
  },
  {
   "cell_type": "markdown",
   "metadata": {},
   "source": [
    "Then I fit the model."
   ]
  },
  {
   "cell_type": "code",
   "execution_count": 15,
   "metadata": {
    "collapsed": false
   },
   "outputs": [
    {
     "name": "stdout",
     "output_type": "stream",
     "text": [
      "Optimization terminated successfully.\n",
      "         Current function value: 0.647323\n",
      "         Iterations 6\n"
     ]
    },
    {
     "data": {
      "text/html": [
       "<table class=\"simpletable\">\n",
       "<caption>Logit Regression Results</caption>\n",
       "<tr>\n",
       "  <th>Dep. Variable:</th>   <td>party_binary</td>   <th>  No. Observations:  </th>   <td> 17058</td>  \n",
       "</tr>\n",
       "<tr>\n",
       "  <th>Model:</th>               <td>Logit</td>      <th>  Df Residuals:      </th>   <td> 17027</td>  \n",
       "</tr>\n",
       "<tr>\n",
       "  <th>Method:</th>               <td>MLE</td>       <th>  Df Model:          </th>   <td>    30</td>  \n",
       "</tr>\n",
       "<tr>\n",
       "  <th>Date:</th>          <td>Thu, 04 Apr 2019</td> <th>  Pseudo R-squ.:     </th>   <td>0.06602</td> \n",
       "</tr>\n",
       "<tr>\n",
       "  <th>Time:</th>              <td>16:48:46</td>     <th>  Log-Likelihood:    </th>  <td> -11042.</td> \n",
       "</tr>\n",
       "<tr>\n",
       "  <th>converged:</th>           <td>True</td>       <th>  LL-Null:           </th>  <td> -11823.</td> \n",
       "</tr>\n",
       "<tr>\n",
       "  <th> </th>                      <td> </td>        <th>  LLR p-value:       </th> <td>3.703e-310</td>\n",
       "</tr>\n",
       "</table>\n",
       "<table class=\"simpletable\">\n",
       "<tr>\n",
       "      <td></td>         <th>coef</th>     <th>std err</th>      <th>z</th>      <th>P>|z|</th>  <th>[0.025</th>    <th>0.975]</th>  \n",
       "</tr>\n",
       "<tr>\n",
       "  <th>Intercept</th> <td>   -0.2614</td> <td>    0.029</td> <td>   -8.928</td> <td> 0.000</td> <td>   -0.319</td> <td>   -0.204</td>\n",
       "</tr>\n",
       "<tr>\n",
       "  <th>american</th>  <td>    0.7488</td> <td>    0.113</td> <td>    6.622</td> <td> 0.000</td> <td>    0.527</td> <td>    0.970</td>\n",
       "</tr>\n",
       "<tr>\n",
       "  <th>amp</th>       <td>    0.5730</td> <td>    0.076</td> <td>    7.562</td> <td> 0.000</td> <td>    0.424</td> <td>    0.721</td>\n",
       "</tr>\n",
       "<tr>\n",
       "  <th>bill</th>      <td>    0.0781</td> <td>    0.100</td> <td>    0.780</td> <td> 0.435</td> <td>   -0.118</td> <td>    0.274</td>\n",
       "</tr>\n",
       "<tr>\n",
       "  <th>care</th>      <td>    0.9703</td> <td>    0.134</td> <td>    7.234</td> <td> 0.000</td> <td>    0.707</td> <td>    1.233</td>\n",
       "</tr>\n",
       "<tr>\n",
       "  <th>congress</th>  <td>   -0.4974</td> <td>    0.118</td> <td>   -4.215</td> <td> 0.000</td> <td>   -0.729</td> <td>   -0.266</td>\n",
       "</tr>\n",
       "<tr>\n",
       "  <th>day</th>       <td>    0.3777</td> <td>    0.111</td> <td>    3.401</td> <td> 0.001</td> <td>    0.160</td> <td>    0.595</td>\n",
       "</tr>\n",
       "<tr>\n",
       "  <th>famili</th>    <td>    0.8625</td> <td>    0.126</td> <td>    6.820</td> <td> 0.000</td> <td>    0.615</td> <td>    1.110</td>\n",
       "</tr>\n",
       "<tr>\n",
       "  <th>get</th>       <td>    0.3874</td> <td>    0.120</td> <td>    3.227</td> <td> 0.001</td> <td>    0.152</td> <td>    0.623</td>\n",
       "</tr>\n",
       "<tr>\n",
       "  <th>good</th>      <td>   -1.2806</td> <td>    0.143</td> <td>   -8.972</td> <td> 0.000</td> <td>   -1.560</td> <td>   -1.001</td>\n",
       "</tr>\n",
       "<tr>\n",
       "  <th>great</th>     <td>   -1.1917</td> <td>    0.115</td> <td>  -10.405</td> <td> 0.000</td> <td>   -1.416</td> <td>   -0.967</td>\n",
       "</tr>\n",
       "<tr>\n",
       "  <th>help</th>      <td>    0.5501</td> <td>    0.119</td> <td>    4.640</td> <td> 0.000</td> <td>    0.318</td> <td>    0.782</td>\n",
       "</tr>\n",
       "<tr>\n",
       "  <th>hous</th>      <td>   -1.1834</td> <td>    0.109</td> <td>  -10.811</td> <td> 0.000</td> <td>   -1.398</td> <td>   -0.969</td>\n",
       "</tr>\n",
       "<tr>\n",
       "  <th>join</th>      <td>    1.4847</td> <td>    0.121</td> <td>   12.266</td> <td> 0.000</td> <td>    1.247</td> <td>    1.722</td>\n",
       "</tr>\n",
       "<tr>\n",
       "  <th>live</th>      <td>   -0.5198</td> <td>    0.113</td> <td>   -4.607</td> <td> 0.000</td> <td>   -0.741</td> <td>   -0.299</td>\n",
       "</tr>\n",
       "<tr>\n",
       "  <th>make</th>      <td>    0.3338</td> <td>    0.131</td> <td>    2.553</td> <td> 0.011</td> <td>    0.078</td> <td>    0.590</td>\n",
       "</tr>\n",
       "<tr>\n",
       "  <th>need</th>      <td>    0.1873</td> <td>    0.114</td> <td>    1.636</td> <td> 0.102</td> <td>   -0.037</td> <td>    0.412</td>\n",
       "</tr>\n",
       "<tr>\n",
       "  <th>new</th>       <td>   -0.6712</td> <td>    0.115</td> <td>   -5.840</td> <td> 0.000</td> <td>   -0.896</td> <td>   -0.446</td>\n",
       "</tr>\n",
       "<tr>\n",
       "  <th>peopl</th>     <td>    0.1773</td> <td>    0.128</td> <td>    1.384</td> <td> 0.166</td> <td>   -0.074</td> <td>    0.429</td>\n",
       "</tr>\n",
       "<tr>\n",
       "  <th>rt</th>        <td>    0.5915</td> <td>    0.057</td> <td>   10.296</td> <td> 0.000</td> <td>    0.479</td> <td>    0.704</td>\n",
       "</tr>\n",
       "<tr>\n",
       "  <th>see</th>       <td>    0.2640</td> <td>    0.103</td> <td>    2.565</td> <td> 0.010</td> <td>    0.062</td> <td>    0.466</td>\n",
       "</tr>\n",
       "<tr>\n",
       "  <th>support</th>   <td>    0.5360</td> <td>    0.117</td> <td>    4.571</td> <td> 0.000</td> <td>    0.306</td> <td>    0.766</td>\n",
       "</tr>\n",
       "<tr>\n",
       "  <th>tax</th>       <td>   -1.1738</td> <td>    0.139</td> <td>   -8.441</td> <td> 0.000</td> <td>   -1.446</td> <td>   -0.901</td>\n",
       "</tr>\n",
       "<tr>\n",
       "  <th>thank</th>     <td>    0.1745</td> <td>    0.081</td> <td>    2.151</td> <td> 0.031</td> <td>    0.016</td> <td>    0.334</td>\n",
       "</tr>\n",
       "<tr>\n",
       "  <th>time</th>      <td>    0.1373</td> <td>    0.115</td> <td>    1.190</td> <td> 0.234</td> <td>   -0.089</td> <td>    0.363</td>\n",
       "</tr>\n",
       "<tr>\n",
       "  <th>today</th>     <td>    0.4406</td> <td>    0.085</td> <td>    5.170</td> <td> 0.000</td> <td>    0.274</td> <td>    0.608</td>\n",
       "</tr>\n",
       "<tr>\n",
       "  <th>us</th>        <td>    0.2164</td> <td>    0.100</td> <td>    2.154</td> <td> 0.031</td> <td>    0.019</td> <td>    0.413</td>\n",
       "</tr>\n",
       "<tr>\n",
       "  <th>vote</th>      <td>   -0.2424</td> <td>    0.104</td> <td>   -2.319</td> <td> 0.020</td> <td>   -0.447</td> <td>   -0.038</td>\n",
       "</tr>\n",
       "<tr>\n",
       "  <th>women</th>     <td>    2.2662</td> <td>    0.163</td> <td>   13.935</td> <td> 0.000</td> <td>    1.947</td> <td>    2.585</td>\n",
       "</tr>\n",
       "<tr>\n",
       "  <th>work</th>      <td>    0.5657</td> <td>    0.108</td> <td>    5.246</td> <td> 0.000</td> <td>    0.354</td> <td>    0.777</td>\n",
       "</tr>\n",
       "<tr>\n",
       "  <th>year</th>      <td>    0.9857</td> <td>    0.132</td> <td>    7.486</td> <td> 0.000</td> <td>    0.728</td> <td>    1.244</td>\n",
       "</tr>\n",
       "</table>"
      ],
      "text/plain": [
       "<class 'statsmodels.iolib.summary.Summary'>\n",
       "\"\"\"\n",
       "                           Logit Regression Results                           \n",
       "==============================================================================\n",
       "Dep. Variable:           party_binary   No. Observations:                17058\n",
       "Model:                          Logit   Df Residuals:                    17027\n",
       "Method:                           MLE   Df Model:                           30\n",
       "Date:                Thu, 04 Apr 2019   Pseudo R-squ.:                 0.06602\n",
       "Time:                        16:48:46   Log-Likelihood:                -11042.\n",
       "converged:                       True   LL-Null:                       -11823.\n",
       "                                        LLR p-value:                3.703e-310\n",
       "==============================================================================\n",
       "                 coef    std err          z      P>|z|      [0.025      0.975]\n",
       "------------------------------------------------------------------------------\n",
       "Intercept     -0.2614      0.029     -8.928      0.000      -0.319      -0.204\n",
       "american       0.7488      0.113      6.622      0.000       0.527       0.970\n",
       "amp            0.5730      0.076      7.562      0.000       0.424       0.721\n",
       "bill           0.0781      0.100      0.780      0.435      -0.118       0.274\n",
       "care           0.9703      0.134      7.234      0.000       0.707       1.233\n",
       "congress      -0.4974      0.118     -4.215      0.000      -0.729      -0.266\n",
       "day            0.3777      0.111      3.401      0.001       0.160       0.595\n",
       "famili         0.8625      0.126      6.820      0.000       0.615       1.110\n",
       "get            0.3874      0.120      3.227      0.001       0.152       0.623\n",
       "good          -1.2806      0.143     -8.972      0.000      -1.560      -1.001\n",
       "great         -1.1917      0.115    -10.405      0.000      -1.416      -0.967\n",
       "help           0.5501      0.119      4.640      0.000       0.318       0.782\n",
       "hous          -1.1834      0.109    -10.811      0.000      -1.398      -0.969\n",
       "join           1.4847      0.121     12.266      0.000       1.247       1.722\n",
       "live          -0.5198      0.113     -4.607      0.000      -0.741      -0.299\n",
       "make           0.3338      0.131      2.553      0.011       0.078       0.590\n",
       "need           0.1873      0.114      1.636      0.102      -0.037       0.412\n",
       "new           -0.6712      0.115     -5.840      0.000      -0.896      -0.446\n",
       "peopl          0.1773      0.128      1.384      0.166      -0.074       0.429\n",
       "rt             0.5915      0.057     10.296      0.000       0.479       0.704\n",
       "see            0.2640      0.103      2.565      0.010       0.062       0.466\n",
       "support        0.5360      0.117      4.571      0.000       0.306       0.766\n",
       "tax           -1.1738      0.139     -8.441      0.000      -1.446      -0.901\n",
       "thank          0.1745      0.081      2.151      0.031       0.016       0.334\n",
       "time           0.1373      0.115      1.190      0.234      -0.089       0.363\n",
       "today          0.4406      0.085      5.170      0.000       0.274       0.608\n",
       "us             0.2164      0.100      2.154      0.031       0.019       0.413\n",
       "vote          -0.2424      0.104     -2.319      0.020      -0.447      -0.038\n",
       "women          2.2662      0.163     13.935      0.000       1.947       2.585\n",
       "work           0.5657      0.108      5.246      0.000       0.354       0.777\n",
       "year           0.9857      0.132      7.486      0.000       0.728       1.244\n",
       "==============================================================================\n",
       "\"\"\""
      ]
     },
     "execution_count": 15,
     "metadata": {},
     "output_type": "execute_result"
    }
   ],
   "source": [
    "twitter_results = smf.logit(twitter_formula, data=twitter_party_df).fit()\n",
    "twitter_results.summary()"
   ]
  },
  {
   "cell_type": "markdown",
   "metadata": {},
   "source": [
    "Let's make sure the model is not completely meaningless by looking at the area under the curve (AUC) of the receiver operating characteristic (ROC) curve."
   ]
  },
  {
   "cell_type": "code",
   "execution_count": 16,
   "metadata": {
    "collapsed": false
   },
   "outputs": [
    {
     "name": "stdout",
     "output_type": "stream",
     "text": [
      "Area under the ROC curve: 0.6622889417765716\n"
     ]
    }
   ],
   "source": [
    "twitter_pred = twitter_results.predict(twitter_party_df) # Predict probability\n",
    "twitter_score = roc_auc_score(twitter_party_df['party_binary'], twitter_pred)\n",
    "print 'Area under the ROC curve: ' + str(twitter_score)"
   ]
  },
  {
   "cell_type": "markdown",
   "metadata": {},
   "source": [
    "The value is reasonably above 0.5, so the model is likely to have some predictive power. Recall that an AUC of 0.5 means that the model is as good as random guessing.\n",
    "\n",
    "Now I want to know which words are most predictive of a tweet being from a Democrat or Republican. More positive the coefficient, the more strongly it predicts a Democrat, and more negative the coefficient, the more strongly it predicts a Republican. I also only want to consider statistically significant features, so I only consider those features with p-values less than $0.05/N$, where $N$ is the total number of features in the model. This is the Bonferroni correction, and is conservative but a quick way to deal with cases when you have many features, since by chance some may appear statistically significant."
   ]
  },
  {
   "cell_type": "code",
   "execution_count": 17,
   "metadata": {
    "collapsed": false
   },
   "outputs": [
    {
     "data": {
      "text/html": [
       "<div>\n",
       "<style scoped>\n",
       "    .dataframe tbody tr th:only-of-type {\n",
       "        vertical-align: middle;\n",
       "    }\n",
       "\n",
       "    .dataframe tbody tr th {\n",
       "        vertical-align: top;\n",
       "    }\n",
       "\n",
       "    .dataframe thead th {\n",
       "        text-align: right;\n",
       "    }\n",
       "</style>\n",
       "<table border=\"1\" class=\"dataframe\">\n",
       "  <thead>\n",
       "    <tr style=\"text-align: right;\">\n",
       "      <th></th>\n",
       "      <th>params</th>\n",
       "      <th>pvalues</th>\n",
       "    </tr>\n",
       "  </thead>\n",
       "  <tbody>\n",
       "    <tr>\n",
       "      <th>good</th>\n",
       "      <td>-1.280560</td>\n",
       "      <td>2.913749e-19</td>\n",
       "    </tr>\n",
       "    <tr>\n",
       "      <th>great</th>\n",
       "      <td>-1.191728</td>\n",
       "      <td>2.351310e-25</td>\n",
       "    </tr>\n",
       "    <tr>\n",
       "      <th>hous</th>\n",
       "      <td>-1.183380</td>\n",
       "      <td>3.045139e-27</td>\n",
       "    </tr>\n",
       "    <tr>\n",
       "      <th>tax</th>\n",
       "      <td>-1.173831</td>\n",
       "      <td>3.134566e-17</td>\n",
       "    </tr>\n",
       "    <tr>\n",
       "      <th>new</th>\n",
       "      <td>-0.671178</td>\n",
       "      <td>5.222452e-09</td>\n",
       "    </tr>\n",
       "    <tr>\n",
       "      <th>live</th>\n",
       "      <td>-0.519776</td>\n",
       "      <td>4.092724e-06</td>\n",
       "    </tr>\n",
       "    <tr>\n",
       "      <th>congress</th>\n",
       "      <td>-0.497364</td>\n",
       "      <td>2.503168e-05</td>\n",
       "    </tr>\n",
       "    <tr>\n",
       "      <th>Intercept</th>\n",
       "      <td>-0.261413</td>\n",
       "      <td>4.342634e-19</td>\n",
       "    </tr>\n",
       "    <tr>\n",
       "      <th>day</th>\n",
       "      <td>0.377749</td>\n",
       "      <td>6.720112e-04</td>\n",
       "    </tr>\n",
       "    <tr>\n",
       "      <th>get</th>\n",
       "      <td>0.387359</td>\n",
       "      <td>1.248888e-03</td>\n",
       "    </tr>\n",
       "    <tr>\n",
       "      <th>today</th>\n",
       "      <td>0.440592</td>\n",
       "      <td>2.346648e-07</td>\n",
       "    </tr>\n",
       "    <tr>\n",
       "      <th>support</th>\n",
       "      <td>0.535972</td>\n",
       "      <td>4.845215e-06</td>\n",
       "    </tr>\n",
       "    <tr>\n",
       "      <th>help</th>\n",
       "      <td>0.550096</td>\n",
       "      <td>3.488912e-06</td>\n",
       "    </tr>\n",
       "    <tr>\n",
       "      <th>work</th>\n",
       "      <td>0.565659</td>\n",
       "      <td>1.557698e-07</td>\n",
       "    </tr>\n",
       "    <tr>\n",
       "      <th>amp</th>\n",
       "      <td>0.572966</td>\n",
       "      <td>3.963885e-14</td>\n",
       "    </tr>\n",
       "    <tr>\n",
       "      <th>rt</th>\n",
       "      <td>0.591536</td>\n",
       "      <td>7.361507e-25</td>\n",
       "    </tr>\n",
       "    <tr>\n",
       "      <th>american</th>\n",
       "      <td>0.748756</td>\n",
       "      <td>3.544545e-11</td>\n",
       "    </tr>\n",
       "    <tr>\n",
       "      <th>famili</th>\n",
       "      <td>0.862541</td>\n",
       "      <td>9.129463e-12</td>\n",
       "    </tr>\n",
       "    <tr>\n",
       "      <th>care</th>\n",
       "      <td>0.970264</td>\n",
       "      <td>4.686805e-13</td>\n",
       "    </tr>\n",
       "    <tr>\n",
       "      <th>year</th>\n",
       "      <td>0.985680</td>\n",
       "      <td>7.114848e-14</td>\n",
       "    </tr>\n",
       "    <tr>\n",
       "      <th>join</th>\n",
       "      <td>1.484703</td>\n",
       "      <td>1.378782e-34</td>\n",
       "    </tr>\n",
       "    <tr>\n",
       "      <th>women</th>\n",
       "      <td>2.266232</td>\n",
       "      <td>3.875405e-44</td>\n",
       "    </tr>\n",
       "  </tbody>\n",
       "</table>\n",
       "</div>"
      ],
      "text/plain": [
       "             params       pvalues\n",
       "good      -1.280560  2.913749e-19\n",
       "great     -1.191728  2.351310e-25\n",
       "hous      -1.183380  3.045139e-27\n",
       "tax       -1.173831  3.134566e-17\n",
       "new       -0.671178  5.222452e-09\n",
       "live      -0.519776  4.092724e-06\n",
       "congress  -0.497364  2.503168e-05\n",
       "Intercept -0.261413  4.342634e-19\n",
       "day        0.377749  6.720112e-04\n",
       "get        0.387359  1.248888e-03\n",
       "today      0.440592  2.346648e-07\n",
       "support    0.535972  4.845215e-06\n",
       "help       0.550096  3.488912e-06\n",
       "work       0.565659  1.557698e-07\n",
       "amp        0.572966  3.963885e-14\n",
       "rt         0.591536  7.361507e-25\n",
       "american   0.748756  3.544545e-11\n",
       "famili     0.862541  9.129463e-12\n",
       "care       0.970264  4.686805e-13\n",
       "year       0.985680  7.114848e-14\n",
       "join       1.484703  1.378782e-34\n",
       "women      2.266232  3.875405e-44"
      ]
     },
     "execution_count": 17,
     "metadata": {},
     "output_type": "execute_result"
    }
   ],
   "source": [
    "twitter_params = pd.DataFrame([twitter_results.params, twitter_results.pvalues], index = ['params','pvalues'])\n",
    "twitter_params = twitter_params.transpose()\n",
    "twitter_params[twitter_params.pvalues < 0.05/(twitter_party_df.shape[1] - 1)].sort_values(by = ['params'])"
   ]
  },
  {
   "cell_type": "markdown",
   "metadata": {},
   "source": [
    "If we consider the strongest predictors, we see that Republicans tend to tweet about 'good', 'great', 'house' and 'tax', and Democrats tend to tweet about 'women', 'join', 'care', and 'family' (I ignore 'year' since that seems meaningless).\n",
    "\n",
    "Note that of the 8 people included in the data, 1 out of 4 are female for the Republicans, and 3 out of 4 are female for the Democrats. This most likely explains why the feminine words are predictive of a Democrat. If the data included all males, it's possible these words would not be very predictive of party. In particular, there are many more tweets from female than male for the Democrats as we see in the table below."
   ]
  },
  {
   "cell_type": "code",
   "execution_count": 18,
   "metadata": {
    "collapsed": false
   },
   "outputs": [
    {
     "data": {
      "text/html": [
       "<div>\n",
       "<style scoped>\n",
       "    .dataframe tbody tr th:only-of-type {\n",
       "        vertical-align: middle;\n",
       "    }\n",
       "\n",
       "    .dataframe tbody tr th {\n",
       "        vertical-align: top;\n",
       "    }\n",
       "\n",
       "    .dataframe thead th {\n",
       "        text-align: right;\n",
       "    }\n",
       "</style>\n",
       "<table border=\"1\" class=\"dataframe\">\n",
       "  <thead>\n",
       "    <tr style=\"text-align: right;\">\n",
       "      <th>party</th>\n",
       "      <th>democrat</th>\n",
       "      <th>republican</th>\n",
       "    </tr>\n",
       "    <tr>\n",
       "      <th>gender</th>\n",
       "      <th></th>\n",
       "      <th></th>\n",
       "    </tr>\n",
       "  </thead>\n",
       "  <tbody>\n",
       "    <tr>\n",
       "      <th>female</th>\n",
       "      <td>7645</td>\n",
       "      <td>3285</td>\n",
       "    </tr>\n",
       "    <tr>\n",
       "      <th>male</th>\n",
       "      <td>787</td>\n",
       "      <td>5341</td>\n",
       "    </tr>\n",
       "  </tbody>\n",
       "</table>\n",
       "</div>"
      ],
      "text/plain": [
       "party   democrat  republican\n",
       "gender                      \n",
       "female      7645        3285\n",
       "male         787        5341"
      ]
     },
     "execution_count": 18,
     "metadata": {},
     "output_type": "execute_result"
    }
   ],
   "source": [
    "pd.crosstab(twitter.gender,twitter.party)"
   ]
  },
  {
   "cell_type": "markdown",
   "metadata": {},
   "source": [
    "## 2.2 Insight 2 Analysis and Code"
   ]
  },
  {
   "cell_type": "markdown",
   "metadata": {},
   "source": [
    "For the second insight, I want to try to cluster people into groups according to their tweets, to see if there are interesting groupings of people tweeting like each other. For this purpose, I use k-means clustering on tfidf, an unsupervised learning method.\n",
    "\n",
    "First, let's see how many unique people there are."
   ]
  },
  {
   "cell_type": "code",
   "execution_count": 19,
   "metadata": {
    "collapsed": false
   },
   "outputs": [
    {
     "data": {
      "text/plain": [
       "array(['Virginia Ann Foxx', 'Kyrsten Sinema', 'Andy Biggs',\n",
       "       'Bruce Westerman', 'Janice D. Schakowsky', 'Nancy J. Pinkin',\n",
       "       'John Abney Culberson', 'Stephen Fenberg'], dtype=object)"
      ]
     },
     "execution_count": 19,
     "metadata": {},
     "output_type": "execute_result"
    }
   ],
   "source": [
    "twitter.name.unique()"
   ]
  },
  {
   "cell_type": "markdown",
   "metadata": {},
   "source": [
    "We see that there are 8 people to consider.\n",
    "\n",
    "For the text data, I reuse the preprocessed text data from insight 1 and add it to the original dataframe."
   ]
  },
  {
   "cell_type": "code",
   "execution_count": 20,
   "metadata": {
    "collapsed": true
   },
   "outputs": [],
   "source": [
    "twitter['corpus'] = twitter_corpus"
   ]
  },
  {
   "cell_type": "markdown",
   "metadata": {},
   "source": [
    "Now, I essentially want to combine all of the tweets from the same person, so I can to tfidf on all tweets from a given person. I do this below."
   ]
  },
  {
   "cell_type": "code",
   "execution_count": 21,
   "metadata": {
    "collapsed": true
   },
   "outputs": [],
   "source": [
    "name_tweet = defaultdict(str)\n",
    "for index, row in twitter.iterrows():\n",
    "    if row['name'] not in name_tweet:\n",
    "        name_tweet[row['name']] = row['corpus']\n",
    "    else:\n",
    "        name_tweet[row['name']] += ' ' + row['corpus']"
   ]
  },
  {
   "cell_type": "markdown",
   "metadata": {},
   "source": [
    "Convert this to a dataframe to see what we have."
   ]
  },
  {
   "cell_type": "code",
   "execution_count": 22,
   "metadata": {
    "collapsed": false
   },
   "outputs": [
    {
     "data": {
      "text/html": [
       "<div>\n",
       "<style scoped>\n",
       "    .dataframe tbody tr th:only-of-type {\n",
       "        vertical-align: middle;\n",
       "    }\n",
       "\n",
       "    .dataframe tbody tr th {\n",
       "        vertical-align: top;\n",
       "    }\n",
       "\n",
       "    .dataframe thead th {\n",
       "        text-align: right;\n",
       "    }\n",
       "</style>\n",
       "<table border=\"1\" class=\"dataframe\">\n",
       "  <thead>\n",
       "    <tr style=\"text-align: right;\">\n",
       "      <th></th>\n",
       "      <th>name</th>\n",
       "      <th>tweet</th>\n",
       "    </tr>\n",
       "  </thead>\n",
       "  <tbody>\n",
       "    <tr>\n",
       "      <th>0</th>\n",
       "      <td>Andy Biggs</td>\n",
       "      <td>great news texa judg grant emerg injunct tuesd...</td>\n",
       "    </tr>\n",
       "    <tr>\n",
       "      <th>1</th>\n",
       "      <td>John Abney Culberson</td>\n",
       "      <td>congratul good friend georg mick tremend succe...</td>\n",
       "    </tr>\n",
       "    <tr>\n",
       "      <th>2</th>\n",
       "      <td>Nancy J. Pinkin</td>\n",
       "      <td>scenic earth day realiti red tide week massiv ...</td>\n",
       "    </tr>\n",
       "    <tr>\n",
       "      <th>3</th>\n",
       "      <td>Kyrsten Sinema</td>\n",
       "      <td>may militaryappreciationmonth say thank servic...</td>\n",
       "    </tr>\n",
       "    <tr>\n",
       "      <th>4</th>\n",
       "      <td>Virginia Ann Foxx</td>\n",
       "      <td>hous current honor rep gifford gun saturday ho...</td>\n",
       "    </tr>\n",
       "    <tr>\n",
       "      <th>5</th>\n",
       "      <td>Bruce Westerman</td>\n",
       "      <td>said block grant tax cut good block grant woul...</td>\n",
       "    </tr>\n",
       "    <tr>\n",
       "      <th>6</th>\n",
       "      <td>Stephen Fenberg</td>\n",
       "      <td>proud repres folk boulder counti priorit susta...</td>\n",
       "    </tr>\n",
       "    <tr>\n",
       "      <th>7</th>\n",
       "      <td>Janice D. Schakowsky</td>\n",
       "      <td>rt wendycnc nice see rep janschakowski capitol...</td>\n",
       "    </tr>\n",
       "  </tbody>\n",
       "</table>\n",
       "</div>"
      ],
      "text/plain": [
       "                   name                                              tweet\n",
       "0            Andy Biggs  great news texa judg grant emerg injunct tuesd...\n",
       "1  John Abney Culberson  congratul good friend georg mick tremend succe...\n",
       "2       Nancy J. Pinkin  scenic earth day realiti red tide week massiv ...\n",
       "3        Kyrsten Sinema  may militaryappreciationmonth say thank servic...\n",
       "4     Virginia Ann Foxx  hous current honor rep gifford gun saturday ho...\n",
       "5       Bruce Westerman  said block grant tax cut good block grant woul...\n",
       "6       Stephen Fenberg  proud repres folk boulder counti priorit susta...\n",
       "7  Janice D. Schakowsky  rt wendycnc nice see rep janschakowski capitol..."
      ]
     },
     "execution_count": 22,
     "metadata": {},
     "output_type": "execute_result"
    }
   ],
   "source": [
    "name_tweet_df = pd.DataFrame({'name': name_tweet.keys(),'tweet': name_tweet.values()})\n",
    "name_tweet_df"
   ]
  },
  {
   "cell_type": "markdown",
   "metadata": {},
   "source": [
    "Let's see which parties they are associated with."
   ]
  },
  {
   "cell_type": "code",
   "execution_count": 23,
   "metadata": {
    "collapsed": false
   },
   "outputs": [
    {
     "data": {
      "text/html": [
       "<div>\n",
       "<style scoped>\n",
       "    .dataframe tbody tr th:only-of-type {\n",
       "        vertical-align: middle;\n",
       "    }\n",
       "\n",
       "    .dataframe tbody tr th {\n",
       "        vertical-align: top;\n",
       "    }\n",
       "\n",
       "    .dataframe thead th {\n",
       "        text-align: right;\n",
       "    }\n",
       "</style>\n",
       "<table border=\"1\" class=\"dataframe\">\n",
       "  <thead>\n",
       "    <tr style=\"text-align: right;\">\n",
       "      <th></th>\n",
       "      <th>name</th>\n",
       "      <th>party</th>\n",
       "    </tr>\n",
       "  </thead>\n",
       "  <tbody>\n",
       "    <tr>\n",
       "      <th>0</th>\n",
       "      <td>Virginia Ann Foxx</td>\n",
       "      <td>republican</td>\n",
       "    </tr>\n",
       "    <tr>\n",
       "      <th>3285</th>\n",
       "      <td>Kyrsten Sinema</td>\n",
       "      <td>democrat</td>\n",
       "    </tr>\n",
       "    <tr>\n",
       "      <th>6710</th>\n",
       "      <td>Andy Biggs</td>\n",
       "      <td>republican</td>\n",
       "    </tr>\n",
       "    <tr>\n",
       "      <th>7437</th>\n",
       "      <td>Bruce Westerman</td>\n",
       "      <td>republican</td>\n",
       "    </tr>\n",
       "    <tr>\n",
       "      <th>8737</th>\n",
       "      <td>Janice D. Schakowsky</td>\n",
       "      <td>democrat</td>\n",
       "    </tr>\n",
       "    <tr>\n",
       "      <th>12292</th>\n",
       "      <td>Nancy J. Pinkin</td>\n",
       "      <td>democrat</td>\n",
       "    </tr>\n",
       "    <tr>\n",
       "      <th>12957</th>\n",
       "      <td>John Abney Culberson</td>\n",
       "      <td>republican</td>\n",
       "    </tr>\n",
       "    <tr>\n",
       "      <th>16271</th>\n",
       "      <td>Stephen Fenberg</td>\n",
       "      <td>democrat</td>\n",
       "    </tr>\n",
       "  </tbody>\n",
       "</table>\n",
       "</div>"
      ],
      "text/plain": [
       "                       name       party\n",
       "0         Virginia Ann Foxx  republican\n",
       "3285         Kyrsten Sinema    democrat\n",
       "6710             Andy Biggs  republican\n",
       "7437        Bruce Westerman  republican\n",
       "8737   Janice D. Schakowsky    democrat\n",
       "12292       Nancy J. Pinkin    democrat\n",
       "12957  John Abney Culberson  republican\n",
       "16271       Stephen Fenberg    democrat"
      ]
     },
     "execution_count": 23,
     "metadata": {},
     "output_type": "execute_result"
    }
   ],
   "source": [
    "twitter[['name','party']].drop_duplicates()"
   ]
  },
  {
   "cell_type": "markdown",
   "metadata": {},
   "source": [
    "Now I do tfidf on the 8 text rows, with 1000 features."
   ]
  },
  {
   "cell_type": "code",
   "execution_count": 24,
   "metadata": {
    "collapsed": true
   },
   "outputs": [],
   "source": [
    "twitter_name_vectorizer = TfidfVectorizer(max_features = 1000)\n",
    "twitter_name_mat = twitter_name_vectorizer.fit_transform(name_tweet.values())"
   ]
  },
  {
   "cell_type": "markdown",
   "metadata": {},
   "source": [
    "Convert this into a dataframe to see what we have."
   ]
  },
  {
   "cell_type": "code",
   "execution_count": 25,
   "metadata": {
    "collapsed": false
   },
   "outputs": [
    {
     "data": {
      "text/html": [
       "<div>\n",
       "<style scoped>\n",
       "    .dataframe tbody tr th:only-of-type {\n",
       "        vertical-align: middle;\n",
       "    }\n",
       "\n",
       "    .dataframe tbody tr th {\n",
       "        vertical-align: top;\n",
       "    }\n",
       "\n",
       "    .dataframe thead th {\n",
       "        text-align: right;\n",
       "    }\n",
       "</style>\n",
       "<table border=\"1\" class=\"dataframe\">\n",
       "  <thead>\n",
       "    <tr style=\"text-align: right;\">\n",
       "      <th></th>\n",
       "      <th>1st</th>\n",
       "      <th>2nd</th>\n",
       "      <th>4job</th>\n",
       "      <th>4th</th>\n",
       "      <th>530630pm</th>\n",
       "      <th>5th</th>\n",
       "      <th>7th</th>\n",
       "      <th>abl</th>\n",
       "      <th>abort</th>\n",
       "      <th>aca</th>\n",
       "      <th>...</th>\n",
       "      <th>write</th>\n",
       "      <th>wrong</th>\n",
       "      <th>wrote</th>\n",
       "      <th>ye</th>\n",
       "      <th>year</th>\n",
       "      <th>yesterday</th>\n",
       "      <th>yet</th>\n",
       "      <th>young</th>\n",
       "      <th>yr</th>\n",
       "      <th>zika</th>\n",
       "    </tr>\n",
       "  </thead>\n",
       "  <tbody>\n",
       "    <tr>\n",
       "      <th>0</th>\n",
       "      <td>0.002510</td>\n",
       "      <td>0.001871</td>\n",
       "      <td>0.000000</td>\n",
       "      <td>0.000000</td>\n",
       "      <td>0.0000</td>\n",
       "      <td>0.003141</td>\n",
       "      <td>0.000000</td>\n",
       "      <td>0.001871</td>\n",
       "      <td>0.002657</td>\n",
       "      <td>0.000935</td>\n",
       "      <td>...</td>\n",
       "      <td>0.000935</td>\n",
       "      <td>0.000000</td>\n",
       "      <td>0.001047</td>\n",
       "      <td>0.002510</td>\n",
       "      <td>0.009204</td>\n",
       "      <td>0.006694</td>\n",
       "      <td>0.001673</td>\n",
       "      <td>0.001673</td>\n",
       "      <td>0.000837</td>\n",
       "      <td>0.000000</td>\n",
       "    </tr>\n",
       "    <tr>\n",
       "      <th>1</th>\n",
       "      <td>0.022932</td>\n",
       "      <td>0.007324</td>\n",
       "      <td>0.000000</td>\n",
       "      <td>0.003662</td>\n",
       "      <td>0.0000</td>\n",
       "      <td>0.000000</td>\n",
       "      <td>0.003279</td>\n",
       "      <td>0.008788</td>\n",
       "      <td>0.000000</td>\n",
       "      <td>0.000000</td>\n",
       "      <td>...</td>\n",
       "      <td>0.019774</td>\n",
       "      <td>0.004099</td>\n",
       "      <td>0.013118</td>\n",
       "      <td>0.055691</td>\n",
       "      <td>0.033415</td>\n",
       "      <td>0.006552</td>\n",
       "      <td>0.023587</td>\n",
       "      <td>0.003931</td>\n",
       "      <td>0.016380</td>\n",
       "      <td>0.000000</td>\n",
       "    </tr>\n",
       "    <tr>\n",
       "      <th>2</th>\n",
       "      <td>0.007212</td>\n",
       "      <td>0.002687</td>\n",
       "      <td>0.000000</td>\n",
       "      <td>0.016123</td>\n",
       "      <td>0.0000</td>\n",
       "      <td>0.003008</td>\n",
       "      <td>0.006016</td>\n",
       "      <td>0.000000</td>\n",
       "      <td>0.000000</td>\n",
       "      <td>0.008061</td>\n",
       "      <td>...</td>\n",
       "      <td>0.000000</td>\n",
       "      <td>0.000000</td>\n",
       "      <td>0.009024</td>\n",
       "      <td>0.004808</td>\n",
       "      <td>0.055292</td>\n",
       "      <td>0.014424</td>\n",
       "      <td>0.009616</td>\n",
       "      <td>0.014424</td>\n",
       "      <td>0.026444</td>\n",
       "      <td>0.000000</td>\n",
       "    </tr>\n",
       "    <tr>\n",
       "      <th>3</th>\n",
       "      <td>0.008904</td>\n",
       "      <td>0.000000</td>\n",
       "      <td>0.000000</td>\n",
       "      <td>0.002765</td>\n",
       "      <td>0.0768</td>\n",
       "      <td>0.001238</td>\n",
       "      <td>0.021046</td>\n",
       "      <td>0.001106</td>\n",
       "      <td>0.000000</td>\n",
       "      <td>0.000553</td>\n",
       "      <td>...</td>\n",
       "      <td>0.001659</td>\n",
       "      <td>0.001857</td>\n",
       "      <td>0.000619</td>\n",
       "      <td>0.011378</td>\n",
       "      <td>0.072717</td>\n",
       "      <td>0.013356</td>\n",
       "      <td>0.009893</td>\n",
       "      <td>0.003463</td>\n",
       "      <td>0.004452</td>\n",
       "      <td>0.000000</td>\n",
       "    </tr>\n",
       "    <tr>\n",
       "      <th>4</th>\n",
       "      <td>0.009278</td>\n",
       "      <td>0.002766</td>\n",
       "      <td>0.074348</td>\n",
       "      <td>0.001383</td>\n",
       "      <td>0.0000</td>\n",
       "      <td>0.053407</td>\n",
       "      <td>0.002322</td>\n",
       "      <td>0.003457</td>\n",
       "      <td>0.017679</td>\n",
       "      <td>0.000691</td>\n",
       "      <td>...</td>\n",
       "      <td>0.004149</td>\n",
       "      <td>0.005418</td>\n",
       "      <td>0.001548</td>\n",
       "      <td>0.003093</td>\n",
       "      <td>0.051341</td>\n",
       "      <td>0.046392</td>\n",
       "      <td>0.003093</td>\n",
       "      <td>0.009278</td>\n",
       "      <td>0.010516</td>\n",
       "      <td>0.002240</td>\n",
       "    </tr>\n",
       "    <tr>\n",
       "      <th>5</th>\n",
       "      <td>0.003973</td>\n",
       "      <td>0.005922</td>\n",
       "      <td>0.000000</td>\n",
       "      <td>0.011103</td>\n",
       "      <td>0.0000</td>\n",
       "      <td>0.000000</td>\n",
       "      <td>0.000000</td>\n",
       "      <td>0.001480</td>\n",
       "      <td>0.004206</td>\n",
       "      <td>0.002961</td>\n",
       "      <td>...</td>\n",
       "      <td>0.002221</td>\n",
       "      <td>0.003315</td>\n",
       "      <td>0.000000</td>\n",
       "      <td>0.000662</td>\n",
       "      <td>0.019867</td>\n",
       "      <td>0.006622</td>\n",
       "      <td>0.001987</td>\n",
       "      <td>0.003311</td>\n",
       "      <td>0.002649</td>\n",
       "      <td>0.001199</td>\n",
       "    </tr>\n",
       "    <tr>\n",
       "      <th>6</th>\n",
       "      <td>0.004698</td>\n",
       "      <td>0.012252</td>\n",
       "      <td>0.000000</td>\n",
       "      <td>0.007001</td>\n",
       "      <td>0.0000</td>\n",
       "      <td>0.001959</td>\n",
       "      <td>0.001959</td>\n",
       "      <td>0.007001</td>\n",
       "      <td>0.000000</td>\n",
       "      <td>0.001750</td>\n",
       "      <td>...</td>\n",
       "      <td>0.001750</td>\n",
       "      <td>0.003919</td>\n",
       "      <td>0.000000</td>\n",
       "      <td>0.017225</td>\n",
       "      <td>0.028186</td>\n",
       "      <td>0.014093</td>\n",
       "      <td>0.003132</td>\n",
       "      <td>0.018791</td>\n",
       "      <td>0.004698</td>\n",
       "      <td>0.000000</td>\n",
       "    </tr>\n",
       "    <tr>\n",
       "      <th>7</th>\n",
       "      <td>0.002381</td>\n",
       "      <td>0.002129</td>\n",
       "      <td>0.000000</td>\n",
       "      <td>0.001597</td>\n",
       "      <td>0.0000</td>\n",
       "      <td>0.005363</td>\n",
       "      <td>0.000596</td>\n",
       "      <td>0.005855</td>\n",
       "      <td>0.024951</td>\n",
       "      <td>0.037259</td>\n",
       "      <td>...</td>\n",
       "      <td>0.003726</td>\n",
       "      <td>0.010130</td>\n",
       "      <td>0.007746</td>\n",
       "      <td>0.001905</td>\n",
       "      <td>0.069999</td>\n",
       "      <td>0.019524</td>\n",
       "      <td>0.013809</td>\n",
       "      <td>0.010476</td>\n",
       "      <td>0.012857</td>\n",
       "      <td>0.032769</td>\n",
       "    </tr>\n",
       "  </tbody>\n",
       "</table>\n",
       "<p>8 rows × 1000 columns</p>\n",
       "</div>"
      ],
      "text/plain": [
       "        1st       2nd      4job       4th  530630pm       5th       7th  \\\n",
       "0  0.002510  0.001871  0.000000  0.000000    0.0000  0.003141  0.000000   \n",
       "1  0.022932  0.007324  0.000000  0.003662    0.0000  0.000000  0.003279   \n",
       "2  0.007212  0.002687  0.000000  0.016123    0.0000  0.003008  0.006016   \n",
       "3  0.008904  0.000000  0.000000  0.002765    0.0768  0.001238  0.021046   \n",
       "4  0.009278  0.002766  0.074348  0.001383    0.0000  0.053407  0.002322   \n",
       "5  0.003973  0.005922  0.000000  0.011103    0.0000  0.000000  0.000000   \n",
       "6  0.004698  0.012252  0.000000  0.007001    0.0000  0.001959  0.001959   \n",
       "7  0.002381  0.002129  0.000000  0.001597    0.0000  0.005363  0.000596   \n",
       "\n",
       "        abl     abort       aca    ...        write     wrong     wrote  \\\n",
       "0  0.001871  0.002657  0.000935    ...     0.000935  0.000000  0.001047   \n",
       "1  0.008788  0.000000  0.000000    ...     0.019774  0.004099  0.013118   \n",
       "2  0.000000  0.000000  0.008061    ...     0.000000  0.000000  0.009024   \n",
       "3  0.001106  0.000000  0.000553    ...     0.001659  0.001857  0.000619   \n",
       "4  0.003457  0.017679  0.000691    ...     0.004149  0.005418  0.001548   \n",
       "5  0.001480  0.004206  0.002961    ...     0.002221  0.003315  0.000000   \n",
       "6  0.007001  0.000000  0.001750    ...     0.001750  0.003919  0.000000   \n",
       "7  0.005855  0.024951  0.037259    ...     0.003726  0.010130  0.007746   \n",
       "\n",
       "         ye      year  yesterday       yet     young        yr      zika  \n",
       "0  0.002510  0.009204   0.006694  0.001673  0.001673  0.000837  0.000000  \n",
       "1  0.055691  0.033415   0.006552  0.023587  0.003931  0.016380  0.000000  \n",
       "2  0.004808  0.055292   0.014424  0.009616  0.014424  0.026444  0.000000  \n",
       "3  0.011378  0.072717   0.013356  0.009893  0.003463  0.004452  0.000000  \n",
       "4  0.003093  0.051341   0.046392  0.003093  0.009278  0.010516  0.002240  \n",
       "5  0.000662  0.019867   0.006622  0.001987  0.003311  0.002649  0.001199  \n",
       "6  0.017225  0.028186   0.014093  0.003132  0.018791  0.004698  0.000000  \n",
       "7  0.001905  0.069999   0.019524  0.013809  0.010476  0.012857  0.032769  \n",
       "\n",
       "[8 rows x 1000 columns]"
      ]
     },
     "execution_count": 25,
     "metadata": {},
     "output_type": "execute_result"
    }
   ],
   "source": [
    "twitter_name_tfidf_df = pd.DataFrame(twitter_name_mat.toarray(), columns = twitter_name_vectorizer.get_feature_names())\n",
    "twitter_name_tfidf_df"
   ]
  },
  {
   "cell_type": "markdown",
   "metadata": {},
   "source": [
    "Now I apply k-means clustering. I start with k = 2."
   ]
  },
  {
   "cell_type": "code",
   "execution_count": 26,
   "metadata": {
    "collapsed": false
   },
   "outputs": [
    {
     "data": {
      "text/plain": [
       "array([1, 0, 0, 0, 0, 0, 0, 0], dtype=int32)"
      ]
     },
     "execution_count": 26,
     "metadata": {},
     "output_type": "execute_result"
    }
   ],
   "source": [
    "## https://scikit-learn.org/stable/modules/generated/sklearn.cluster.KMeans.html\n",
    "## https://scikit-learn.org/stable/auto_examples/cluster/plot_cluster_iris.html\n",
    "kmn = KMeans(n_clusters=2, n_init = 100)\n",
    "kmn.fit(twitter_name_mat.toarray()).labels_"
   ]
  },
  {
   "cell_type": "markdown",
   "metadata": {},
   "source": [
    "This means that Andy Biggs tweets in a unique way, and everybody else tweets in a similar way. I would have naively thought 2 clusters would split along party lines, or along gender lines. I tried different cluster numbers, but the most interesting is with 5 clusters."
   ]
  },
  {
   "cell_type": "code",
   "execution_count": 27,
   "metadata": {
    "collapsed": false
   },
   "outputs": [
    {
     "data": {
      "text/plain": [
       "array([1, 3, 0, 0, 0, 2, 4, 0], dtype=int32)"
      ]
     },
     "execution_count": 27,
     "metadata": {},
     "output_type": "execute_result"
    }
   ],
   "source": [
    "kmn = KMeans(n_clusters=5, n_init = 100)\n",
    "kmn.fit(twitter_name_mat.toarray()).labels_"
   ]
  },
  {
   "cell_type": "markdown",
   "metadata": {},
   "source": [
    "Recall who the entries correspond to."
   ]
  },
  {
   "cell_type": "code",
   "execution_count": 28,
   "metadata": {
    "collapsed": false
   },
   "outputs": [
    {
     "data": {
      "text/plain": [
       "0              Andy Biggs\n",
       "1    John Abney Culberson\n",
       "2         Nancy J. Pinkin\n",
       "3          Kyrsten Sinema\n",
       "4       Virginia Ann Foxx\n",
       "5         Bruce Westerman\n",
       "6         Stephen Fenberg\n",
       "7    Janice D. Schakowsky\n",
       "Name: name, dtype: object"
      ]
     },
     "execution_count": 28,
     "metadata": {},
     "output_type": "execute_result"
    }
   ],
   "source": [
    "name_tweet_df.name"
   ]
  },
  {
   "cell_type": "markdown",
   "metadata": {},
   "source": [
    "All the men have fragmented into their own clusters (4 of them), and the remaining 5th cluster is all females. So females tweet like one another, and men are tweeting each their own ways."
   ]
  },
  {
   "cell_type": "markdown",
   "metadata": {},
   "source": [
    "## 2.3 Insight 3 Analysis and Code"
   ]
  },
  {
   "cell_type": "markdown",
   "metadata": {},
   "source": [
    "I tried a few different angles, but most of them did not lead to interesting findings, so I do not include those deadend analyses. I describe below the analysis that led to the most interesting finding. That is, predicting whether a Maryland bill passes or not with text and other features.\n",
    "\n",
    "First I load the bill schema and see what's in it."
   ]
  },
  {
   "cell_type": "code",
   "execution_count": 29,
   "metadata": {
    "collapsed": false
   },
   "outputs": [
    {
     "data": {
      "text/html": [
       "<div>\n",
       "<style scoped>\n",
       "    .dataframe tbody tr th:only-of-type {\n",
       "        vertical-align: middle;\n",
       "    }\n",
       "\n",
       "    .dataframe tbody tr th {\n",
       "        vertical-align: top;\n",
       "    }\n",
       "\n",
       "    .dataframe thead th {\n",
       "        text-align: right;\n",
       "    }\n",
       "</style>\n",
       "<table border=\"1\" class=\"dataframe\">\n",
       "  <thead>\n",
       "    <tr style=\"text-align: right;\">\n",
       "      <th></th>\n",
       "      <th>properties</th>\n",
       "      <th>type</th>\n",
       "    </tr>\n",
       "  </thead>\n",
       "  <tbody>\n",
       "    <tr>\n",
       "      <th>actions</th>\n",
       "      <td>{u'type': u'object', u'id': u'/actions', u'pro...</td>\n",
       "      <td>object</td>\n",
       "    </tr>\n",
       "    <tr>\n",
       "      <th>bill_type</th>\n",
       "      <td>{u'type': u'string', u'id': u'/bill_type'}</td>\n",
       "      <td>object</td>\n",
       "    </tr>\n",
       "    <tr>\n",
       "      <th>chamber</th>\n",
       "      <td>{u'type': u'string', u'id': u'/chamber'}</td>\n",
       "      <td>object</td>\n",
       "    </tr>\n",
       "    <tr>\n",
       "      <th>committees</th>\n",
       "      <td>{u'type': u'object', u'id': u'/committees', u'...</td>\n",
       "      <td>object</td>\n",
       "    </tr>\n",
       "    <tr>\n",
       "      <th>description</th>\n",
       "      <td>{u'type': u'string', u'id': u'/description'}</td>\n",
       "      <td>object</td>\n",
       "    </tr>\n",
       "    <tr>\n",
       "      <th>documents</th>\n",
       "      <td>{u'type': u'object', u'id': u'/documents', u'p...</td>\n",
       "      <td>object</td>\n",
       "    </tr>\n",
       "    <tr>\n",
       "      <th>id</th>\n",
       "      <td>{u'type': u'integer', u'id': u'/id'}</td>\n",
       "      <td>object</td>\n",
       "    </tr>\n",
       "    <tr>\n",
       "      <th>session</th>\n",
       "      <td>{u'type': u'string', u'id': u'/session'}</td>\n",
       "      <td>object</td>\n",
       "    </tr>\n",
       "    <tr>\n",
       "      <th>sponsors</th>\n",
       "      <td>{u'items': [{u'type': u'object', u'id': u'/spo...</td>\n",
       "      <td>object</td>\n",
       "    </tr>\n",
       "    <tr>\n",
       "      <th>state</th>\n",
       "      <td>{u'type': u'string', u'id': u'/state'}</td>\n",
       "      <td>object</td>\n",
       "    </tr>\n",
       "    <tr>\n",
       "      <th>title</th>\n",
       "      <td>{u'type': u'string', u'id': u'/title'}</td>\n",
       "      <td>object</td>\n",
       "    </tr>\n",
       "    <tr>\n",
       "      <th>votes</th>\n",
       "      <td>{u'type': u'object', u'id': u'/votes', u'prope...</td>\n",
       "      <td>object</td>\n",
       "    </tr>\n",
       "  </tbody>\n",
       "</table>\n",
       "</div>"
      ],
      "text/plain": [
       "                                                    properties    type\n",
       "actions      {u'type': u'object', u'id': u'/actions', u'pro...  object\n",
       "bill_type           {u'type': u'string', u'id': u'/bill_type'}  object\n",
       "chamber               {u'type': u'string', u'id': u'/chamber'}  object\n",
       "committees   {u'type': u'object', u'id': u'/committees', u'...  object\n",
       "description       {u'type': u'string', u'id': u'/description'}  object\n",
       "documents    {u'type': u'object', u'id': u'/documents', u'p...  object\n",
       "id                        {u'type': u'integer', u'id': u'/id'}  object\n",
       "session               {u'type': u'string', u'id': u'/session'}  object\n",
       "sponsors     {u'items': [{u'type': u'object', u'id': u'/spo...  object\n",
       "state                   {u'type': u'string', u'id': u'/state'}  object\n",
       "title                   {u'type': u'string', u'id': u'/title'}  object\n",
       "votes        {u'type': u'object', u'id': u'/votes', u'prope...  object"
      ]
     },
     "execution_count": 29,
     "metadata": {},
     "output_type": "execute_result"
    }
   ],
   "source": [
    "bill_schema = pd.read_json('data_schema.json')\n",
    "bill_schema"
   ]
  },
  {
   "cell_type": "code",
   "execution_count": 30,
   "metadata": {
    "collapsed": false
   },
   "outputs": [
    {
     "data": {
      "text/plain": [
       "{u'id': u'/actions',\n",
       " u'properties': {u'enacted': {u'id': u'/actions/enacted', u'type': u'date'},\n",
       "  u'failed': {u'id': u'/actions/failed', u'type': u'date'},\n",
       "  u'introduced': {u'id': u'/actions/introduced', u'type': u'date'},\n",
       "  u'passed_lower': {u'id': u'/actions/passed_lower', u'type': u'date'},\n",
       "  u'passed_upper': {u'id': u'/actions/passed_upper', u'type': u'date'},\n",
       "  u'resolution_passed': {u'id': u'/actions/resolution_passed',\n",
       "   u'type': u'date'},\n",
       "  u'vetoed': {u'id': u'/actions/vetoed', u'type': u'date'}},\n",
       " u'type': u'object'}"
      ]
     },
     "execution_count": 30,
     "metadata": {},
     "output_type": "execute_result"
    }
   ],
   "source": [
    "bill_schema['properties']['actions']"
   ]
  },
  {
   "cell_type": "markdown",
   "metadata": {},
   "source": [
    "Now I load the actual bill data."
   ]
  },
  {
   "cell_type": "code",
   "execution_count": 31,
   "metadata": {
    "collapsed": true
   },
   "outputs": [],
   "source": [
    "bill = pd.read_json('data.json', lines=True)"
   ]
  },
  {
   "cell_type": "markdown",
   "metadata": {},
   "source": [
    "Let's take a look at the first few lines."
   ]
  },
  {
   "cell_type": "code",
   "execution_count": 32,
   "metadata": {
    "collapsed": false
   },
   "outputs": [
    {
     "data": {
      "text/html": [
       "<div>\n",
       "<style scoped>\n",
       "    .dataframe tbody tr th:only-of-type {\n",
       "        vertical-align: middle;\n",
       "    }\n",
       "\n",
       "    .dataframe tbody tr th {\n",
       "        vertical-align: top;\n",
       "    }\n",
       "\n",
       "    .dataframe thead th {\n",
       "        text-align: right;\n",
       "    }\n",
       "</style>\n",
       "<table border=\"1\" class=\"dataframe\">\n",
       "  <thead>\n",
       "    <tr style=\"text-align: right;\">\n",
       "      <th></th>\n",
       "      <th>actions</th>\n",
       "      <th>bill_type</th>\n",
       "      <th>chamber</th>\n",
       "      <th>committees</th>\n",
       "      <th>description</th>\n",
       "      <th>documents</th>\n",
       "      <th>id</th>\n",
       "      <th>session</th>\n",
       "      <th>sponsors</th>\n",
       "      <th>state</th>\n",
       "      <th>title</th>\n",
       "      <th>votes</th>\n",
       "    </tr>\n",
       "  </thead>\n",
       "  <tbody>\n",
       "    <tr>\n",
       "      <th>0</th>\n",
       "      <td>{u'vetoed': u'null', u'resolution_passed': u'n...</td>\n",
       "      <td>bill</td>\n",
       "      <td>lower</td>\n",
       "      <td>{u'committee_upper': u'Senate Committee on Bud...</td>\n",
       "      <td>Establishing the Commission on Tax Policy, Ref...</td>\n",
       "      <td>{u'1': u'AN ACT concerning Commission on Tax P...</td>\n",
       "      <td>1</td>\n",
       "      <td>2013</td>\n",
       "      <td>[{u'party': u'Republican Party', u'type': u'co...</td>\n",
       "      <td>md</td>\n",
       "      <td>Commission on Tax Policy, Reform, and Fairness</td>\n",
       "      <td>{u'chamber_lower': {u'yes_vote': [u'Turner, V....</td>\n",
       "    </tr>\n",
       "    <tr>\n",
       "      <th>1</th>\n",
       "      <td>{u'vetoed': u'null', u'resolution_passed': u'n...</td>\n",
       "      <td>bill</td>\n",
       "      <td>upper</td>\n",
       "      <td>{u'committee_upper': u'Senate Committee on Rul...</td>\n",
       "      <td>Requiring a local department of social service...</td>\n",
       "      <td>{u'1': u'AN ACT concerning Children with Devel...</td>\n",
       "      <td>2</td>\n",
       "      <td>2013</td>\n",
       "      <td>[{u'party': u'Democratic Party', u'type': u'co...</td>\n",
       "      <td>md</td>\n",
       "      <td>Children with Developmental Disabilities in St...</td>\n",
       "      <td>{u'chamber_upper': {u'yes_vote': [u'Rosapepe',...</td>\n",
       "    </tr>\n",
       "    <tr>\n",
       "      <th>2</th>\n",
       "      <td>{u'vetoed': u'null', u'resolution_passed': u'n...</td>\n",
       "      <td>bill</td>\n",
       "      <td>lower</td>\n",
       "      <td>{u'committee_lower': u'House Committee on Envi...</td>\n",
       "      <td>Providing that the Maryland Vehicle Law does n...</td>\n",
       "      <td>{u'0': u'AN ACT concerning Vehicle Laws Charle...</td>\n",
       "      <td>3</td>\n",
       "      <td>2013</td>\n",
       "      <td>[{u'party': None, u'type': u'primary', u'name'...</td>\n",
       "      <td>md</td>\n",
       "      <td>Vehicle Laws - Charles County - Golf Cart Zones</td>\n",
       "      <td>{}</td>\n",
       "    </tr>\n",
       "    <tr>\n",
       "      <th>3</th>\n",
       "      <td>{u'vetoed': u'null', u'resolution_passed': u'n...</td>\n",
       "      <td>bill</td>\n",
       "      <td>upper</td>\n",
       "      <td>{u'committee_upper': u'Senate Committee on Rul...</td>\n",
       "      <td>Authorizing the creation of a State Debt not t...</td>\n",
       "      <td>{u'0': u'AN ACT concerning Creation of a State...</td>\n",
       "      <td>4</td>\n",
       "      <td>2013</td>\n",
       "      <td>[{u'party': u'Democratic Party', u'type': u'pr...</td>\n",
       "      <td>md</td>\n",
       "      <td>Creation of a State Debt - Maryland Artificial...</td>\n",
       "      <td>{}</td>\n",
       "    </tr>\n",
       "    <tr>\n",
       "      <th>4</th>\n",
       "      <td>{u'vetoed': u'null', u'resolution_passed': u'n...</td>\n",
       "      <td>bill</td>\n",
       "      <td>lower</td>\n",
       "      <td>{u'committee_lower': u'House Committee on Appr...</td>\n",
       "      <td>Altering the definition of \"tuition\" to includ...</td>\n",
       "      <td>{u'0': u'AN ACT concerning Foster Care Recipie...</td>\n",
       "      <td>5</td>\n",
       "      <td>2013</td>\n",
       "      <td>[{u'party': u'Democratic Party', u'type': u'pr...</td>\n",
       "      <td>md</td>\n",
       "      <td>Foster Care Recipients - Waiver of Tuition and...</td>\n",
       "      <td>{}</td>\n",
       "    </tr>\n",
       "  </tbody>\n",
       "</table>\n",
       "</div>"
      ],
      "text/plain": [
       "                                             actions bill_type chamber  \\\n",
       "0  {u'vetoed': u'null', u'resolution_passed': u'n...      bill   lower   \n",
       "1  {u'vetoed': u'null', u'resolution_passed': u'n...      bill   upper   \n",
       "2  {u'vetoed': u'null', u'resolution_passed': u'n...      bill   lower   \n",
       "3  {u'vetoed': u'null', u'resolution_passed': u'n...      bill   upper   \n",
       "4  {u'vetoed': u'null', u'resolution_passed': u'n...      bill   lower   \n",
       "\n",
       "                                          committees  \\\n",
       "0  {u'committee_upper': u'Senate Committee on Bud...   \n",
       "1  {u'committee_upper': u'Senate Committee on Rul...   \n",
       "2  {u'committee_lower': u'House Committee on Envi...   \n",
       "3  {u'committee_upper': u'Senate Committee on Rul...   \n",
       "4  {u'committee_lower': u'House Committee on Appr...   \n",
       "\n",
       "                                         description  \\\n",
       "0  Establishing the Commission on Tax Policy, Ref...   \n",
       "1  Requiring a local department of social service...   \n",
       "2  Providing that the Maryland Vehicle Law does n...   \n",
       "3  Authorizing the creation of a State Debt not t...   \n",
       "4  Altering the definition of \"tuition\" to includ...   \n",
       "\n",
       "                                           documents  id  session  \\\n",
       "0  {u'1': u'AN ACT concerning Commission on Tax P...   1     2013   \n",
       "1  {u'1': u'AN ACT concerning Children with Devel...   2     2013   \n",
       "2  {u'0': u'AN ACT concerning Vehicle Laws Charle...   3     2013   \n",
       "3  {u'0': u'AN ACT concerning Creation of a State...   4     2013   \n",
       "4  {u'0': u'AN ACT concerning Foster Care Recipie...   5     2013   \n",
       "\n",
       "                                            sponsors state  \\\n",
       "0  [{u'party': u'Republican Party', u'type': u'co...    md   \n",
       "1  [{u'party': u'Democratic Party', u'type': u'co...    md   \n",
       "2  [{u'party': None, u'type': u'primary', u'name'...    md   \n",
       "3  [{u'party': u'Democratic Party', u'type': u'pr...    md   \n",
       "4  [{u'party': u'Democratic Party', u'type': u'pr...    md   \n",
       "\n",
       "                                               title  \\\n",
       "0     Commission on Tax Policy, Reform, and Fairness   \n",
       "1  Children with Developmental Disabilities in St...   \n",
       "2    Vehicle Laws - Charles County - Golf Cart Zones   \n",
       "3  Creation of a State Debt - Maryland Artificial...   \n",
       "4  Foster Care Recipients - Waiver of Tuition and...   \n",
       "\n",
       "                                               votes  \n",
       "0  {u'chamber_lower': {u'yes_vote': [u'Turner, V....  \n",
       "1  {u'chamber_upper': {u'yes_vote': [u'Rosapepe',...  \n",
       "2                                                 {}  \n",
       "3                                                 {}  \n",
       "4                                                 {}  "
      ]
     },
     "execution_count": 32,
     "metadata": {},
     "output_type": "execute_result"
    }
   ],
   "source": [
    "bill.head()"
   ]
  },
  {
   "cell_type": "markdown",
   "metadata": {},
   "source": [
    "Let's take a look at the first documents variable."
   ]
  },
  {
   "cell_type": "code",
   "execution_count": 33,
   "metadata": {
    "collapsed": false
   },
   "outputs": [
    {
     "data": {
      "text/plain": [
       "{u'0': u'AN ACT concerning Commission on Tax Policy, Reform, and Fairness FOR the purpose of establishing the Commission on Tax Policy, Reform, and Fairness; specifying the membership of the Commission; providing for the appointment of a Senate cochair and House cochair of the Commission; providing for the staffing of the Commission; prohibiting a member of the Commission from receiving certain compensation, but authorizing the reimbursement of certain expenses; requiring the Commission to study, consider, and make recommendations regarding certain matters; requiring the Commission to report its findings and recommendations to the Governor and the General Assembly on or before a certain date; providing for the termination of this Act; and generally relating to the Commission on Tax Policy, Reform, and Fairness. SECTION 1. BE IT ENACTED BY THE GENERAL ASSEMBLY OF MARYLAND, That: (a) There is a Commission on Tax Policy, Reform, and Fairness. (b) The Commission consists of the following members: (1) two members of the Senate of Maryland, appointed by the President of the Senate; (2) two members of the House of Delegates, appointed by the Speaker of the House; (3) the Comptroller of the Treasury, or the Comptrollers designee; (4) the Secretary of Budget and Management, or the Secretarys designee; HOUSE BILL 1302 (5) a representative of the Maryland Association of Counties; (6) a representative of the Maryland Chamber of Commerce; (7) one economist, appointed by the Governor; (8) one member of the faculty of the University of Maryland School of Public Policy, appointed by the Governor; (9) one member of the faculty of the University of Maryland Robert H. Smith School of Business, appointed by the Governor; and (10) two members of the public, each of whom shall be an attorney at law or an accountant knowledgeable about the States tax structure, appointed by the Governor. (c) (1) The President of the Senate shall designate one of the members appointed from the Senate of Maryland as cochair of the Commission. (2) The Speaker of the House shall designate one of the members appointed from the House of Delegates as cochair of the Commission. (d) The Office of the Comptroller and the Department of Budget and Management shall provide staff for the Commission. (e) A member of the Commission: (1) may not receive compensation as a member of the Commission; but (2) is entitled to reimbursement for expenses under the Standard State Travel Regulations, as provided in the State budget. (f) The Commission shall: (1) study the current revenue structure of the State, including income, sales, corporate, motor fuel, excise, and property taxes, tax exemptions and credits, and fees; (2) review the academic and economic research on state and local tax policy to assist in the overall assessment of efficacy, fairness, and competitiveness of the States current revenue structure; (3) review the revenue structure of neighboring jurisdictions for the purpose of evaluating the regional competitiveness of the States tax structure; (4) consider the nature of the States economy and the importance of service and professional businesses to economic development; (5) consider whether or not the current revenue structure of the State should be reformed, modified, and modernized; and (6) make recommendations regarding changes to the States revenue structure that: (i) promote job growth and economic development; (ii) ensure fairness, simplicity, and transparency; (iii) provide a stable, balanced, and reliable revenue stream, while not reducing services; and (iv) create a business friendly environment. (g) On or before December 1, 2014, the Commission shall report its findings and recommendations to the Governor and, in accordance with 21246 of the State Government Article, the General Assembly. SECTION 2. AND BE IT FURTHER ENACTED, That this Act shall take effect July 1, 2013. It shall remain effective for a period of 2 years and, at the end of June 30, 2015, with no further action required by the General Assembly, this Act shall be abrogated and of no further force and effect.',\n",
       " u'1': u'AN ACT concerning Commission on Tax Policy, Reform, and Fairness FOR the purpose of establishing the Commission on Tax Policy, Reform, and Fairness; specifying the membership of the Commission; providing for the appointment of a Senate cochair and House cochair of the Commission; providing for the staffing of the Commission; prohibiting a member of the Commission from receiving certain compensation, but authorizing the reimbursement of certain expenses; requiring the Commission to study, consider, and make recommendations regarding certain matters; requiring the Commission to report its findings and recommendations to the Governor and the General Assembly on or before a certain date; providing for the termination of this Act; and generally relating to the Commission on Tax Policy, Reform, and Fairness. SECTION 1. BE IT ENACTED BY THE GENERAL ASSEMBLY OF MARYLAND, That: (a) There is a Commission on Tax Policy, Reform, and Fairness. (b) The Commission consists of the following members: (1) two members of the Senate of Maryland, appointed by the President of the Senate; HOUSE BILL 1302 (2) two members of the House of Delegates, appointed by the Speaker of the House; (3) the Comptroller of the Treasury, or the Comptrollers designee; (4) the Secretary of Budget and Management, or the Secretarys designee; (5) a representative of the Maryland Association of Counties; (6) a representative of the Maryland Chamber of Commerce; (7) one economist, appointed by the Governor; (8) one member of the faculty of the University of Maryland School of Public Policy, appointed by the Governor; (9) one member of the faculty of the University of Maryland Robert H. Smith School of Business, appointed by the Governor; and (10) two members of the public, each of whom shall be an attorney at law or an accountant knowledgeable about the States tax structure, appointed by the Governor; (11) a representative of the Maryland Municipal League; (12) a representative of the Montgomery County Chamber of Commerce; and (13) a representative of the State Department of Assessments and Taxation. (c) (1) The President of the Senate shall designate one of the members appointed from the Senate of Maryland as cochair of the Commission. (2) The Speaker of the House shall designate one of the members appointed from the House of Delegates as cochair of the Commission. (d) The Office of the Comptroller and the Department of Budget and Management shall provide staff for the Commission. (e) A member of the Commission: (1) may not receive compensation as a member of the Commission; but (2) is entitled to reimbursement for expenses under the Standard State Travel Regulations, as provided in the State budget. (f) The Commission shall: (1) study the current revenue structure of the State, including income, sales, corporate, motor fuel, excise, and property taxes, tax exemptions and credits, and fees; (2) review the academic and economic research on state and local tax policy to assist in the overall assessment of efficacy, fairness, and competitiveness of the States current revenue structure; (3) review the revenue structure of neighboring jurisdictions for the purpose of evaluating the regional competitiveness of the States tax structure; (4) consider the nature of the States economy and the importance of service and professional businesses to economic development; (5) consider whether or not the current revenue structure of the State should be reformed, modified, and modernized; and (6) make recommendations regarding changes to the States revenue structure that: (i) promote job growth and economic development; (ii) ensure fairness, simplicity, and transparency; (iii) provide a stable, balanced, and reliable revenue stream, while not reducing services; and (iv) create a business friendly environment. (g) On or before December 1, 2014, the Commission shall report its findings and recommendations to the Governor and, in accordance with 21246 of the State Government Article, the General Assembly. SECTION 2. AND BE IT FURTHER ENACTED, That this Act shall take effect July 1, 2013. It shall remain effective for a period of 2 years and, at the end of June 30, 2015, with no further action required by the General Assembly, this Act shall be abrogated and of no further force and effect.'}"
      ]
     },
     "execution_count": 33,
     "metadata": {},
     "output_type": "execute_result"
    }
   ],
   "source": [
    "bill.documents[0]"
   ]
  },
  {
   "cell_type": "markdown",
   "metadata": {},
   "source": [
    "We see that there are two entries in this dictionary. The second looks almost identical to the first. This second one is probably just a revision of the first one. So if we do any text analysis, we should probably just keep one of the versions."
   ]
  },
  {
   "cell_type": "markdown",
   "metadata": {},
   "source": [
    "Let's see how many rows are for each state."
   ]
  },
  {
   "cell_type": "code",
   "execution_count": 34,
   "metadata": {
    "collapsed": false
   },
   "outputs": [
    {
     "data": {
      "text/plain": [
       "ca    9548\n",
       "md    5221\n",
       "Name: state, dtype: int64"
      ]
     },
     "execution_count": 34,
     "metadata": {},
     "output_type": "execute_result"
    }
   ],
   "source": [
    "bill['state'].value_counts(dropna=False)"
   ]
  },
  {
   "cell_type": "markdown",
   "metadata": {},
   "source": [
    "I want to focus on Maryland bills."
   ]
  },
  {
   "cell_type": "code",
   "execution_count": 35,
   "metadata": {
    "collapsed": true
   },
   "outputs": [],
   "source": [
    "bill = bill[bill.state == 'md']"
   ]
  },
  {
   "cell_type": "markdown",
   "metadata": {},
   "source": [
    "Let's look at the `bill_type` variable."
   ]
  },
  {
   "cell_type": "code",
   "execution_count": 36,
   "metadata": {
    "collapsed": false
   },
   "outputs": [
    {
     "data": {
      "text/plain": [
       "bill          5190\n",
       "resolution      31\n",
       "Name: bill_type, dtype: int64"
      ]
     },
     "execution_count": 36,
     "metadata": {},
     "output_type": "execute_result"
    }
   ],
   "source": [
    "bill['bill_type'].value_counts(dropna=False)"
   ]
  },
  {
   "cell_type": "markdown",
   "metadata": {},
   "source": [
    "Most of them are bills, but some are resolutions. For this analysis, let's focus just on bills and drop the resolutions."
   ]
  },
  {
   "cell_type": "code",
   "execution_count": 37,
   "metadata": {
    "collapsed": true
   },
   "outputs": [],
   "source": [
    "bill = bill[bill.bill_type == 'bill']"
   ]
  },
  {
   "cell_type": "markdown",
   "metadata": {},
   "source": [
    "Let's take a more detailed look at the actions column."
   ]
  },
  {
   "cell_type": "code",
   "execution_count": 38,
   "metadata": {
    "collapsed": false
   },
   "outputs": [
    {
     "data": {
      "text/plain": [
       "{u'enacted': u'null',\n",
       " u'failed': u'2013-03-27',\n",
       " u'introduced': u'2013-02-08',\n",
       " u'passed_lower': u'2013-03-21',\n",
       " u'passed_upper': u'null',\n",
       " u'resolution_passed': u'null',\n",
       " u'vetoed': u'null'}"
      ]
     },
     "execution_count": 38,
     "metadata": {},
     "output_type": "execute_result"
    }
   ],
   "source": [
    "bill.actions[0]"
   ]
  },
  {
   "cell_type": "markdown",
   "metadata": {},
   "source": [
    "I dropped all of the resolutions, so there should not be rows with a non-null `resolution_passed` value."
   ]
  },
  {
   "cell_type": "code",
   "execution_count": 39,
   "metadata": {
    "collapsed": false
   },
   "outputs": [
    {
     "data": {
      "text/plain": [
       "null    5190\n",
       "Name: resolution_passed, dtype: int64"
      ]
     },
     "execution_count": 39,
     "metadata": {},
     "output_type": "execute_result"
    }
   ],
   "source": [
    "bill['resolution_passed'] = bill.actions.map(lambda x: x['resolution_passed'])\n",
    "bill.resolution_passed.value_counts(dropna=False)"
   ]
  },
  {
   "cell_type": "markdown",
   "metadata": {},
   "source": [
    "This is true, so good.\n",
    "\n",
    "I want to predict whether a bill was enacted or not (essentially passing), so I create a new column that is 1 for enacted and 0 otherwise."
   ]
  },
  {
   "cell_type": "code",
   "execution_count": 40,
   "metadata": {
    "collapsed": false
   },
   "outputs": [
    {
     "data": {
      "text/plain": [
       "0    4500\n",
       "1     690\n",
       "Name: enacted, dtype: int64"
      ]
     },
     "execution_count": 40,
     "metadata": {},
     "output_type": "execute_result"
    }
   ],
   "source": [
    "bill['enacted'] = bill.actions.map(lambda x: 0 if x['enacted'] == r'null' else 1)\n",
    "bill.enacted.value_counts(dropna=False)"
   ]
  },
  {
   "cell_type": "markdown",
   "metadata": {},
   "source": [
    "There are 690 bills that passed, 4500 bills that failed."
   ]
  },
  {
   "cell_type": "markdown",
   "metadata": {},
   "source": [
    "Let's look at the sponsor values."
   ]
  },
  {
   "cell_type": "code",
   "execution_count": 41,
   "metadata": {
    "collapsed": false
   },
   "outputs": [
    {
     "data": {
      "text/plain": [
       "[{u'name': u\"O'Donnell\", u'party': u'Republican Party', u'type': u'cosponsor'},\n",
       " {u'name': u'McMillan', u'party': u'Republican Party', u'type': u'cosponsor'},\n",
       " {u'name': u'Dumais', u'party': u'Democratic Party', u'type': u'primary'},\n",
       " {u'name': u'Myers', u'party': u'Republican', u'type': u'cosponsor'},\n",
       " {u'name': u'Simmons', u'party': u'Democratic', u'type': u'cosponsor'},\n",
       " {u'name': u'Cardin', u'party': u'Democratic', u'type': u'cosponsor'},\n",
       " {u'name': u'Serafini', u'party': u'Republican Party', u'type': u'cosponsor'},\n",
       " {u'name': u'Fisher', u'party': u'Republican Party', u'type': u'cosponsor'},\n",
       " {u'name': u'Luedtke', u'party': u'Democratic Party', u'type': u'cosponsor'},\n",
       " {u'name': u'Hixson', u'party': u'Democratic Party', u'type': u'cosponsor'},\n",
       " {u'name': u'George', u'party': u'Republican', u'type': u'cosponsor'},\n",
       " {u'name': u'F. Turner', u'party': u'Democratic Party', u'type': u'cosponsor'},\n",
       " {u'name': u'Afzali', u'party': u'Republican Party', u'type': u'cosponsor'}]"
      ]
     },
     "execution_count": 41,
     "metadata": {},
     "output_type": "execute_result"
    }
   ],
   "source": [
    "bill.sponsors[0]"
   ]
  },
  {
   "cell_type": "markdown",
   "metadata": {},
   "source": [
    "There are many sponsors. I will make a feature for each row with the number of sponsors."
   ]
  },
  {
   "cell_type": "code",
   "execution_count": 42,
   "metadata": {
    "collapsed": false
   },
   "outputs": [
    {
     "name": "stdout",
     "output_type": "stream",
     "text": [
      "Highest number of sponsors: 87\n",
      "Lowest number of sponsors: 1\n"
     ]
    },
    {
     "data": {
      "text/plain": [
       "<matplotlib.axes._subplots.AxesSubplot at 0x18fe88750>"
      ]
     },
     "execution_count": 42,
     "metadata": {},
     "output_type": "execute_result"
    },
    {
     "data": {
      "image/png": "[encoded data removed]",
      "text/plain": [
       "<matplotlib.figure.Figure at 0x18fe7af90>"
      ]
     },
     "metadata": {},
     "output_type": "display_data"
    }
   ],
   "source": [
    "bill['sponsor_num'] = bill.sponsors.map(lambda x: len(x))\n",
    "print 'Highest number of sponsors: ' + str(max(bill.sponsor_num))\n",
    "print 'Lowest number of sponsors: ' + str(min(bill.sponsor_num))\n",
    "bill.sponsor_num.plot.hist(bins=100)"
   ]
  },
  {
   "cell_type": "markdown",
   "metadata": {},
   "source": [
    "Most bills have very few sponsors, but some have a lot. I deal with this imbalance later by taking the log of this value.\n",
    "\n",
    "Common sense suggests there should be only one primary sponsor, but I want to check this."
   ]
  },
  {
   "cell_type": "code",
   "execution_count": 43,
   "metadata": {
    "collapsed": false
   },
   "outputs": [
    {
     "data": {
      "text/plain": [
       "1     5189\n",
       "18       1\n",
       "Name: primary_sponsor_num, dtype: int64"
      ]
     },
     "execution_count": 43,
     "metadata": {},
     "output_type": "execute_result"
    }
   ],
   "source": [
    "def get_primary_sponsor_number(x):\n",
    "    res = 0\n",
    "    for i in x:\n",
    "        if i['type'] == 'primary':\n",
    "            res += 1\n",
    "    return res\n",
    "\n",
    "bill['primary_sponsor_num'] = bill.sponsors.map(get_primary_sponsor_number)\n",
    "bill.primary_sponsor_num.value_counts()"
   ]
  },
  {
   "cell_type": "markdown",
   "metadata": {},
   "source": [
    "Surprisingly, there is one bill with 18 primary sponsors. Since it's only one, I drop this bill."
   ]
  },
  {
   "cell_type": "code",
   "execution_count": 44,
   "metadata": {
    "collapsed": false
   },
   "outputs": [
    {
     "data": {
      "text/plain": [
       "(5189, 16)"
      ]
     },
     "execution_count": 44,
     "metadata": {},
     "output_type": "execute_result"
    }
   ],
   "source": [
    "bill = bill[bill.primary_sponsor_num == 1]\n",
    "bill.shape"
   ]
  },
  {
   "cell_type": "markdown",
   "metadata": {},
   "source": [
    "As discovered earlier, the documents column is a dictionary with a number of entries. I create a feature with the total number of documents for each bill."
   ]
  },
  {
   "cell_type": "code",
   "execution_count": 45,
   "metadata": {
    "collapsed": false
   },
   "outputs": [
    {
     "data": {
      "text/plain": [
       "1    3095\n",
       "2    1393\n",
       "3     529\n",
       "4     172\n",
       "Name: document_num, dtype: int64"
      ]
     },
     "execution_count": 45,
     "metadata": {},
     "output_type": "execute_result"
    }
   ],
   "source": [
    "bill['document_num'] = bill.documents.map(lambda x: len(x))\n",
    "bill.document_num.value_counts()"
   ]
  },
  {
   "cell_type": "markdown",
   "metadata": {},
   "source": [
    "Let's check the breakdown of enacted with the number of documents."
   ]
  },
  {
   "cell_type": "code",
   "execution_count": 46,
   "metadata": {
    "collapsed": false
   },
   "outputs": [
    {
     "data": {
      "text/html": [
       "<div>\n",
       "<style scoped>\n",
       "    .dataframe tbody tr th:only-of-type {\n",
       "        vertical-align: middle;\n",
       "    }\n",
       "\n",
       "    .dataframe tbody tr th {\n",
       "        vertical-align: top;\n",
       "    }\n",
       "\n",
       "    .dataframe thead th {\n",
       "        text-align: right;\n",
       "    }\n",
       "</style>\n",
       "<table border=\"1\" class=\"dataframe\">\n",
       "  <thead>\n",
       "    <tr style=\"text-align: right;\">\n",
       "      <th>document_num</th>\n",
       "      <th>1</th>\n",
       "      <th>2</th>\n",
       "      <th>3</th>\n",
       "      <th>4</th>\n",
       "    </tr>\n",
       "    <tr>\n",
       "      <th>enacted</th>\n",
       "      <th></th>\n",
       "      <th></th>\n",
       "      <th></th>\n",
       "      <th></th>\n",
       "    </tr>\n",
       "  </thead>\n",
       "  <tbody>\n",
       "    <tr>\n",
       "      <th>0</th>\n",
       "      <td>3095</td>\n",
       "      <td>1393</td>\n",
       "      <td>10</td>\n",
       "      <td>2</td>\n",
       "    </tr>\n",
       "    <tr>\n",
       "      <th>1</th>\n",
       "      <td>0</td>\n",
       "      <td>0</td>\n",
       "      <td>519</td>\n",
       "      <td>170</td>\n",
       "    </tr>\n",
       "  </tbody>\n",
       "</table>\n",
       "</div>"
      ],
      "text/plain": [
       "document_num     1     2    3    4\n",
       "enacted                           \n",
       "0             3095  1393   10    2\n",
       "1                0     0  519  170"
      ]
     },
     "execution_count": 46,
     "metadata": {},
     "output_type": "execute_result"
    }
   ],
   "source": [
    "pd.crosstab(bill.enacted, bill.document_num)"
   ]
  },
  {
   "cell_type": "markdown",
   "metadata": {},
   "source": [
    "Wow, this is pretty stark. Rows with 3 or 4 documents most certainly were enacted, and those with 1 or 2 documents failed with 100% certainty. If we make this a feature, we can predict the outcome with almost 100% accuracy, but this is meaningless, since laws that are enacted probably end up getting revised and necessarily have at least 3 revisions. Although this is mildly interesting to know, it most likely has no value in helping a bill be enacted. So I will not use this as a feature in the modeling. Furthermore, I will only take the last document for text analysis."
   ]
  },
  {
   "cell_type": "code",
   "execution_count": 47,
   "metadata": {
    "collapsed": false
   },
   "outputs": [],
   "source": [
    "bill['document_final'] = bill.documents.map(lambda x: x[str(len(x) - 1)])"
   ]
  },
  {
   "cell_type": "markdown",
   "metadata": {},
   "source": [
    "Do tfidf on the bill documents. I use the function `text_preprocessing` which I created earlier for the Twitter data."
   ]
  },
  {
   "cell_type": "code",
   "execution_count": 48,
   "metadata": {
    "collapsed": false
   },
   "outputs": [
    {
     "data": {
      "text/plain": [
       "u'act concern commiss tax polici reform fair purpos establish commiss tax polici reform fair specifi membership commiss provid appoint senat cochair hous cochair commiss provid staf commiss prohibit member commiss receiv certain compens author reimburs certain expens requir commiss studi consid make recommend regard certain matter requir commiss report find recommend governor gener assembl certain date provid termin act gener relat commiss tax polici reform fair section enact gener assembl maryland commiss tax polici reform fair b commiss consist follow member two member senat maryland appoint presid senat hous bill two member hous deleg appoint speaker hous comptrol treasuri comptrol designe secretari budget manag secretari designe repres maryland associ counti repres maryland chamber commerc one economist appoint governor one member faculti univers maryland school public polici appoint governor one member faculti univers maryland robert h smith school busi appoint governor two member public shall attorney law account knowledg state tax structur appoint governor repres maryland municip leagu repres montgomeri counti chamber commerc repres state depart assess taxat c presid senat shall design one member appoint senat maryland cochair commiss speaker hous shall design one member appoint hous deleg cochair commiss d offic comptrol depart budget manag shall provid staff commiss e member commiss may receiv compens member commiss entitl reimburs expens standard state travel regul provid state budget f commiss shall studi current revenu structur state includ incom sale corpor motor fuel excis properti tax tax exempt credit fee review academ econom research state local tax polici assist overal assess efficaci fair competit state current revenu structur review revenu structur neighbor jurisdict purpos evalu region competit state tax structur consid natur state economi import servic profession busi econom develop consid whether current revenu structur state reform modifi modern make recommend regard chang state revenu structur promot job growth econom develop ii ensur fair simplic transpar iii provid stabl balanc reliabl revenu stream reduc servic iv creat busi friendli environ g decemb commiss shall report find recommend governor accord state govern articl gener assembl section enact act shall take effect juli shall remain effect period year end june action requir gener assembl act shall abrog forc effect'"
      ]
     },
     "execution_count": 48,
     "metadata": {},
     "output_type": "execute_result"
    }
   ],
   "source": [
    "# Test the procedure\n",
    "text_preprocessing(bill.document_final[0])"
   ]
  },
  {
   "cell_type": "markdown",
   "metadata": {},
   "source": [
    "Here I do the full text preprocessing. This takes some time."
   ]
  },
  {
   "cell_type": "code",
   "execution_count": 49,
   "metadata": {
    "collapsed": true
   },
   "outputs": [],
   "source": [
    "bill_corpus = bill.document_final.map(text_preprocessing)"
   ]
  },
  {
   "cell_type": "markdown",
   "metadata": {},
   "source": [
    "I can save this to a text file so I can load it next time without having to preprocess it."
   ]
  },
  {
   "cell_type": "code",
   "execution_count": 50,
   "metadata": {
    "collapsed": true
   },
   "outputs": [],
   "source": [
    "# https://pandas.pydata.org/pandas-docs/version/0.17.0/generated/pandas.Series.to_csv.html\n",
    "## bill_corpus.to_csv('bill_md_corpus_final.csv')"
   ]
  },
  {
   "cell_type": "markdown",
   "metadata": {},
   "source": [
    "I apply tfidf on this data and keep the top 100 words."
   ]
  },
  {
   "cell_type": "code",
   "execution_count": 51,
   "metadata": {
    "collapsed": false
   },
   "outputs": [],
   "source": [
    "bill_vectorizer = TfidfVectorizer(max_features = 100)\n",
    "bill_mat = bill_vectorizer.fit_transform(bill_corpus)"
   ]
  },
  {
   "cell_type": "code",
   "execution_count": 52,
   "metadata": {
    "collapsed": false
   },
   "outputs": [
    {
     "data": {
      "text/html": [
       "<div>\n",
       "<style scoped>\n",
       "    .dataframe tbody tr th:only-of-type {\n",
       "        vertical-align: middle;\n",
       "    }\n",
       "\n",
       "    .dataframe tbody tr th {\n",
       "        vertical-align: top;\n",
       "    }\n",
       "\n",
       "    .dataframe thead th {\n",
       "        text-align: right;\n",
       "    }\n",
       "</style>\n",
       "<table border=\"1\" class=\"dataframe\">\n",
       "  <thead>\n",
       "    <tr style=\"text-align: right;\">\n",
       "      <th></th>\n",
       "      <th>accord</th>\n",
       "      <th>act</th>\n",
       "      <th>administr</th>\n",
       "      <th>amend</th>\n",
       "      <th>amount</th>\n",
       "      <th>annot</th>\n",
       "      <th>appli</th>\n",
       "      <th>applic</th>\n",
       "      <th>appropri</th>\n",
       "      <th>approv</th>\n",
       "      <th>...</th>\n",
       "      <th>titl</th>\n",
       "      <th>trust</th>\n",
       "      <th>unit</th>\n",
       "      <th>use</th>\n",
       "      <th>vehicl</th>\n",
       "      <th>violat</th>\n",
       "      <th>volum</th>\n",
       "      <th>within</th>\n",
       "      <th>work</th>\n",
       "      <th>year</th>\n",
       "    </tr>\n",
       "  </thead>\n",
       "  <tbody>\n",
       "    <tr>\n",
       "      <th>0</th>\n",
       "      <td>0.025960</td>\n",
       "      <td>0.060458</td>\n",
       "      <td>0.000000</td>\n",
       "      <td>0.000000</td>\n",
       "      <td>0.000000</td>\n",
       "      <td>0.000000</td>\n",
       "      <td>0.000000</td>\n",
       "      <td>0.000000</td>\n",
       "      <td>0.000000</td>\n",
       "      <td>0.000000</td>\n",
       "      <td>...</td>\n",
       "      <td>0.000000</td>\n",
       "      <td>0.0</td>\n",
       "      <td>0.0</td>\n",
       "      <td>0.000000</td>\n",
       "      <td>0.000000</td>\n",
       "      <td>0.0</td>\n",
       "      <td>0.000000</td>\n",
       "      <td>0.000000</td>\n",
       "      <td>0.000000</td>\n",
       "      <td>0.022759</td>\n",
       "    </tr>\n",
       "    <tr>\n",
       "      <th>1</th>\n",
       "      <td>0.007848</td>\n",
       "      <td>0.009138</td>\n",
       "      <td>0.277317</td>\n",
       "      <td>0.031038</td>\n",
       "      <td>0.000000</td>\n",
       "      <td>0.043671</td>\n",
       "      <td>0.000000</td>\n",
       "      <td>0.068990</td>\n",
       "      <td>0.038326</td>\n",
       "      <td>0.042787</td>\n",
       "      <td>...</td>\n",
       "      <td>0.036668</td>\n",
       "      <td>0.0</td>\n",
       "      <td>0.0</td>\n",
       "      <td>0.000000</td>\n",
       "      <td>0.000000</td>\n",
       "      <td>0.0</td>\n",
       "      <td>0.043964</td>\n",
       "      <td>0.008306</td>\n",
       "      <td>0.000000</td>\n",
       "      <td>0.220161</td>\n",
       "    </tr>\n",
       "    <tr>\n",
       "      <th>2</th>\n",
       "      <td>0.000000</td>\n",
       "      <td>0.043007</td>\n",
       "      <td>0.052205</td>\n",
       "      <td>0.029215</td>\n",
       "      <td>0.000000</td>\n",
       "      <td>0.025691</td>\n",
       "      <td>0.000000</td>\n",
       "      <td>0.000000</td>\n",
       "      <td>0.000000</td>\n",
       "      <td>0.000000</td>\n",
       "      <td>...</td>\n",
       "      <td>0.086284</td>\n",
       "      <td>0.0</td>\n",
       "      <td>0.0</td>\n",
       "      <td>0.103626</td>\n",
       "      <td>0.670883</td>\n",
       "      <td>0.0</td>\n",
       "      <td>0.025863</td>\n",
       "      <td>0.000000</td>\n",
       "      <td>0.000000</td>\n",
       "      <td>0.000000</td>\n",
       "    </tr>\n",
       "    <tr>\n",
       "      <th>3</th>\n",
       "      <td>0.047226</td>\n",
       "      <td>0.109983</td>\n",
       "      <td>0.000000</td>\n",
       "      <td>0.000000</td>\n",
       "      <td>0.261458</td>\n",
       "      <td>0.000000</td>\n",
       "      <td>0.022721</td>\n",
       "      <td>0.023065</td>\n",
       "      <td>0.028829</td>\n",
       "      <td>0.025748</td>\n",
       "      <td>...</td>\n",
       "      <td>0.000000</td>\n",
       "      <td>0.0</td>\n",
       "      <td>0.0</td>\n",
       "      <td>0.022084</td>\n",
       "      <td>0.000000</td>\n",
       "      <td>0.0</td>\n",
       "      <td>0.000000</td>\n",
       "      <td>0.024992</td>\n",
       "      <td>0.238996</td>\n",
       "      <td>0.020701</td>\n",
       "    </tr>\n",
       "    <tr>\n",
       "      <th>4</th>\n",
       "      <td>0.000000</td>\n",
       "      <td>0.065867</td>\n",
       "      <td>0.000000</td>\n",
       "      <td>0.044744</td>\n",
       "      <td>0.125267</td>\n",
       "      <td>0.039347</td>\n",
       "      <td>0.000000</td>\n",
       "      <td>0.000000</td>\n",
       "      <td>0.000000</td>\n",
       "      <td>0.000000</td>\n",
       "      <td>...</td>\n",
       "      <td>0.000000</td>\n",
       "      <td>0.0</td>\n",
       "      <td>0.0</td>\n",
       "      <td>0.000000</td>\n",
       "      <td>0.000000</td>\n",
       "      <td>0.0</td>\n",
       "      <td>0.039611</td>\n",
       "      <td>0.000000</td>\n",
       "      <td>0.000000</td>\n",
       "      <td>0.148772</td>\n",
       "    </tr>\n",
       "  </tbody>\n",
       "</table>\n",
       "<p>5 rows × 100 columns</p>\n",
       "</div>"
      ],
      "text/plain": [
       "     accord       act  administr     amend    amount     annot     appli  \\\n",
       "0  0.025960  0.060458   0.000000  0.000000  0.000000  0.000000  0.000000   \n",
       "1  0.007848  0.009138   0.277317  0.031038  0.000000  0.043671  0.000000   \n",
       "2  0.000000  0.043007   0.052205  0.029215  0.000000  0.025691  0.000000   \n",
       "3  0.047226  0.109983   0.000000  0.000000  0.261458  0.000000  0.022721   \n",
       "4  0.000000  0.065867   0.000000  0.044744  0.125267  0.039347  0.000000   \n",
       "\n",
       "     applic  appropri    approv    ...         titl  trust  unit       use  \\\n",
       "0  0.000000  0.000000  0.000000    ...     0.000000    0.0   0.0  0.000000   \n",
       "1  0.068990  0.038326  0.042787    ...     0.036668    0.0   0.0  0.000000   \n",
       "2  0.000000  0.000000  0.000000    ...     0.086284    0.0   0.0  0.103626   \n",
       "3  0.023065  0.028829  0.025748    ...     0.000000    0.0   0.0  0.022084   \n",
       "4  0.000000  0.000000  0.000000    ...     0.000000    0.0   0.0  0.000000   \n",
       "\n",
       "     vehicl  violat     volum    within      work      year  \n",
       "0  0.000000     0.0  0.000000  0.000000  0.000000  0.022759  \n",
       "1  0.000000     0.0  0.043964  0.008306  0.000000  0.220161  \n",
       "2  0.670883     0.0  0.025863  0.000000  0.000000  0.000000  \n",
       "3  0.000000     0.0  0.000000  0.024992  0.238996  0.020701  \n",
       "4  0.000000     0.0  0.039611  0.000000  0.000000  0.148772  \n",
       "\n",
       "[5 rows x 100 columns]"
      ]
     },
     "execution_count": 52,
     "metadata": {},
     "output_type": "execute_result"
    }
   ],
   "source": [
    "bill_tfidf_df = pd.DataFrame(bill_mat.toarray(), columns = bill_vectorizer.get_feature_names())\n",
    "bill_tfidf_df.head()      # Check the first few rows"
   ]
  },
  {
   "cell_type": "markdown",
   "metadata": {},
   "source": [
    "Let's take a look at the original dataframe again and decide which features to keep."
   ]
  },
  {
   "cell_type": "code",
   "execution_count": 53,
   "metadata": {
    "collapsed": false
   },
   "outputs": [
    {
     "data": {
      "text/html": [
       "<div>\n",
       "<style scoped>\n",
       "    .dataframe tbody tr th:only-of-type {\n",
       "        vertical-align: middle;\n",
       "    }\n",
       "\n",
       "    .dataframe tbody tr th {\n",
       "        vertical-align: top;\n",
       "    }\n",
       "\n",
       "    .dataframe thead th {\n",
       "        text-align: right;\n",
       "    }\n",
       "</style>\n",
       "<table border=\"1\" class=\"dataframe\">\n",
       "  <thead>\n",
       "    <tr style=\"text-align: right;\">\n",
       "      <th></th>\n",
       "      <th>actions</th>\n",
       "      <th>bill_type</th>\n",
       "      <th>chamber</th>\n",
       "      <th>committees</th>\n",
       "      <th>description</th>\n",
       "      <th>documents</th>\n",
       "      <th>id</th>\n",
       "      <th>session</th>\n",
       "      <th>sponsors</th>\n",
       "      <th>state</th>\n",
       "      <th>title</th>\n",
       "      <th>votes</th>\n",
       "      <th>resolution_passed</th>\n",
       "      <th>enacted</th>\n",
       "      <th>sponsor_num</th>\n",
       "      <th>primary_sponsor_num</th>\n",
       "      <th>document_num</th>\n",
       "      <th>document_final</th>\n",
       "    </tr>\n",
       "  </thead>\n",
       "  <tbody>\n",
       "    <tr>\n",
       "      <th>0</th>\n",
       "      <td>{u'vetoed': u'null', u'resolution_passed': u'n...</td>\n",
       "      <td>bill</td>\n",
       "      <td>lower</td>\n",
       "      <td>{u'committee_upper': u'Senate Committee on Bud...</td>\n",
       "      <td>Establishing the Commission on Tax Policy, Ref...</td>\n",
       "      <td>{u'1': u'AN ACT concerning Commission on Tax P...</td>\n",
       "      <td>1</td>\n",
       "      <td>2013</td>\n",
       "      <td>[{u'party': u'Republican Party', u'type': u'co...</td>\n",
       "      <td>md</td>\n",
       "      <td>Commission on Tax Policy, Reform, and Fairness</td>\n",
       "      <td>{u'chamber_lower': {u'yes_vote': [u'Turner, V....</td>\n",
       "      <td>null</td>\n",
       "      <td>0</td>\n",
       "      <td>13</td>\n",
       "      <td>1</td>\n",
       "      <td>2</td>\n",
       "      <td>AN ACT concerning Commission on Tax Policy, Re...</td>\n",
       "    </tr>\n",
       "    <tr>\n",
       "      <th>1</th>\n",
       "      <td>{u'vetoed': u'null', u'resolution_passed': u'n...</td>\n",
       "      <td>bill</td>\n",
       "      <td>upper</td>\n",
       "      <td>{u'committee_upper': u'Senate Committee on Rul...</td>\n",
       "      <td>Requiring a local department of social service...</td>\n",
       "      <td>{u'1': u'AN ACT concerning Children with Devel...</td>\n",
       "      <td>2</td>\n",
       "      <td>2013</td>\n",
       "      <td>[{u'party': u'Democratic Party', u'type': u'co...</td>\n",
       "      <td>md</td>\n",
       "      <td>Children with Developmental Disabilities in St...</td>\n",
       "      <td>{u'chamber_upper': {u'yes_vote': [u'Rosapepe',...</td>\n",
       "      <td>null</td>\n",
       "      <td>0</td>\n",
       "      <td>10</td>\n",
       "      <td>1</td>\n",
       "      <td>2</td>\n",
       "      <td>AN ACT concerning Children with Developmental ...</td>\n",
       "    </tr>\n",
       "    <tr>\n",
       "      <th>2</th>\n",
       "      <td>{u'vetoed': u'null', u'resolution_passed': u'n...</td>\n",
       "      <td>bill</td>\n",
       "      <td>lower</td>\n",
       "      <td>{u'committee_lower': u'House Committee on Envi...</td>\n",
       "      <td>Providing that the Maryland Vehicle Law does n...</td>\n",
       "      <td>{u'0': u'AN ACT concerning Vehicle Laws Charle...</td>\n",
       "      <td>3</td>\n",
       "      <td>2013</td>\n",
       "      <td>[{u'party': None, u'type': u'primary', u'name'...</td>\n",
       "      <td>md</td>\n",
       "      <td>Vehicle Laws - Charles County - Golf Cart Zones</td>\n",
       "      <td>{}</td>\n",
       "      <td>null</td>\n",
       "      <td>0</td>\n",
       "      <td>1</td>\n",
       "      <td>1</td>\n",
       "      <td>1</td>\n",
       "      <td>AN ACT concerning Vehicle Laws Charles County ...</td>\n",
       "    </tr>\n",
       "    <tr>\n",
       "      <th>3</th>\n",
       "      <td>{u'vetoed': u'null', u'resolution_passed': u'n...</td>\n",
       "      <td>bill</td>\n",
       "      <td>upper</td>\n",
       "      <td>{u'committee_upper': u'Senate Committee on Rul...</td>\n",
       "      <td>Authorizing the creation of a State Debt not t...</td>\n",
       "      <td>{u'0': u'AN ACT concerning Creation of a State...</td>\n",
       "      <td>4</td>\n",
       "      <td>2013</td>\n",
       "      <td>[{u'party': u'Democratic Party', u'type': u'pr...</td>\n",
       "      <td>md</td>\n",
       "      <td>Creation of a State Debt - Maryland Artificial...</td>\n",
       "      <td>{}</td>\n",
       "      <td>null</td>\n",
       "      <td>0</td>\n",
       "      <td>1</td>\n",
       "      <td>1</td>\n",
       "      <td>1</td>\n",
       "      <td>AN ACT concerning Creation of a State Debt Mar...</td>\n",
       "    </tr>\n",
       "    <tr>\n",
       "      <th>4</th>\n",
       "      <td>{u'vetoed': u'null', u'resolution_passed': u'n...</td>\n",
       "      <td>bill</td>\n",
       "      <td>lower</td>\n",
       "      <td>{u'committee_lower': u'House Committee on Appr...</td>\n",
       "      <td>Altering the definition of \"tuition\" to includ...</td>\n",
       "      <td>{u'0': u'AN ACT concerning Foster Care Recipie...</td>\n",
       "      <td>5</td>\n",
       "      <td>2013</td>\n",
       "      <td>[{u'party': u'Democratic Party', u'type': u'pr...</td>\n",
       "      <td>md</td>\n",
       "      <td>Foster Care Recipients - Waiver of Tuition and...</td>\n",
       "      <td>{}</td>\n",
       "      <td>null</td>\n",
       "      <td>0</td>\n",
       "      <td>2</td>\n",
       "      <td>1</td>\n",
       "      <td>1</td>\n",
       "      <td>AN ACT concerning Foster Care Recipients Waive...</td>\n",
       "    </tr>\n",
       "  </tbody>\n",
       "</table>\n",
       "</div>"
      ],
      "text/plain": [
       "                                             actions bill_type chamber  \\\n",
       "0  {u'vetoed': u'null', u'resolution_passed': u'n...      bill   lower   \n",
       "1  {u'vetoed': u'null', u'resolution_passed': u'n...      bill   upper   \n",
       "2  {u'vetoed': u'null', u'resolution_passed': u'n...      bill   lower   \n",
       "3  {u'vetoed': u'null', u'resolution_passed': u'n...      bill   upper   \n",
       "4  {u'vetoed': u'null', u'resolution_passed': u'n...      bill   lower   \n",
       "\n",
       "                                          committees  \\\n",
       "0  {u'committee_upper': u'Senate Committee on Bud...   \n",
       "1  {u'committee_upper': u'Senate Committee on Rul...   \n",
       "2  {u'committee_lower': u'House Committee on Envi...   \n",
       "3  {u'committee_upper': u'Senate Committee on Rul...   \n",
       "4  {u'committee_lower': u'House Committee on Appr...   \n",
       "\n",
       "                                         description  \\\n",
       "0  Establishing the Commission on Tax Policy, Ref...   \n",
       "1  Requiring a local department of social service...   \n",
       "2  Providing that the Maryland Vehicle Law does n...   \n",
       "3  Authorizing the creation of a State Debt not t...   \n",
       "4  Altering the definition of \"tuition\" to includ...   \n",
       "\n",
       "                                           documents  id  session  \\\n",
       "0  {u'1': u'AN ACT concerning Commission on Tax P...   1     2013   \n",
       "1  {u'1': u'AN ACT concerning Children with Devel...   2     2013   \n",
       "2  {u'0': u'AN ACT concerning Vehicle Laws Charle...   3     2013   \n",
       "3  {u'0': u'AN ACT concerning Creation of a State...   4     2013   \n",
       "4  {u'0': u'AN ACT concerning Foster Care Recipie...   5     2013   \n",
       "\n",
       "                                            sponsors state  \\\n",
       "0  [{u'party': u'Republican Party', u'type': u'co...    md   \n",
       "1  [{u'party': u'Democratic Party', u'type': u'co...    md   \n",
       "2  [{u'party': None, u'type': u'primary', u'name'...    md   \n",
       "3  [{u'party': u'Democratic Party', u'type': u'pr...    md   \n",
       "4  [{u'party': u'Democratic Party', u'type': u'pr...    md   \n",
       "\n",
       "                                               title  \\\n",
       "0     Commission on Tax Policy, Reform, and Fairness   \n",
       "1  Children with Developmental Disabilities in St...   \n",
       "2    Vehicle Laws - Charles County - Golf Cart Zones   \n",
       "3  Creation of a State Debt - Maryland Artificial...   \n",
       "4  Foster Care Recipients - Waiver of Tuition and...   \n",
       "\n",
       "                                               votes resolution_passed  \\\n",
       "0  {u'chamber_lower': {u'yes_vote': [u'Turner, V....              null   \n",
       "1  {u'chamber_upper': {u'yes_vote': [u'Rosapepe',...              null   \n",
       "2                                                 {}              null   \n",
       "3                                                 {}              null   \n",
       "4                                                 {}              null   \n",
       "\n",
       "   enacted  sponsor_num  primary_sponsor_num  document_num  \\\n",
       "0        0           13                    1             2   \n",
       "1        0           10                    1             2   \n",
       "2        0            1                    1             1   \n",
       "3        0            1                    1             1   \n",
       "4        0            2                    1             1   \n",
       "\n",
       "                                      document_final  \n",
       "0  AN ACT concerning Commission on Tax Policy, Re...  \n",
       "1  AN ACT concerning Children with Developmental ...  \n",
       "2  AN ACT concerning Vehicle Laws Charles County ...  \n",
       "3  AN ACT concerning Creation of a State Debt Mar...  \n",
       "4  AN ACT concerning Foster Care Recipients Waive...  "
      ]
     },
     "execution_count": 53,
     "metadata": {},
     "output_type": "execute_result"
    }
   ],
   "source": [
    "bill.head()"
   ]
  },
  {
   "cell_type": "markdown",
   "metadata": {},
   "source": [
    "For the purposes of modeling, I keep the features `chamber`, `enacted`, and `sponsor_num`."
   ]
  },
  {
   "cell_type": "code",
   "execution_count": 54,
   "metadata": {
    "collapsed": true
   },
   "outputs": [],
   "source": [
    "## https://pandas.pydata.org/pandas-docs/stable/reference/api/pandas.DataFrame.reset_index.html\n",
    "bill_model = bill[['chamber','enacted','sponsor_num']].reset_index(drop=True)"
   ]
  },
  {
   "cell_type": "markdown",
   "metadata": {},
   "source": [
    "I also add another feature, which is the number of words in the document."
   ]
  },
  {
   "cell_type": "code",
   "execution_count": 55,
   "metadata": {
    "collapsed": true
   },
   "outputs": [],
   "source": [
    "bill_model['corpus_length'] = bill_corpus.map(lambda x: len(x.split()))"
   ]
  },
  {
   "cell_type": "markdown",
   "metadata": {},
   "source": [
    "Let's see what the numbers look like."
   ]
  },
  {
   "cell_type": "code",
   "execution_count": 56,
   "metadata": {
    "collapsed": false
   },
   "outputs": [
    {
     "data": {
      "text/plain": [
       " 384.0      54\n",
       " 386.0      40\n",
       " 385.0      38\n",
       "NaN         32\n",
       " 388.0      31\n",
       " 391.0      26\n",
       " 381.0      24\n",
       " 383.0      23\n",
       " 389.0      23\n",
       " 387.0      22\n",
       " 382.0      21\n",
       " 395.0      21\n",
       " 190.0      20\n",
       " 192.0      20\n",
       " 230.0      20\n",
       " 397.0      19\n",
       " 396.0      19\n",
       " 241.0      19\n",
       " 7.0        19\n",
       " 180.0      18\n",
       " 188.0      18\n",
       " 175.0      17\n",
       " 229.0      17\n",
       " 378.0      17\n",
       " 392.0      17\n",
       " 135.0      17\n",
       " 390.0      16\n",
       " 300.0      16\n",
       " 209.0      16\n",
       " 393.0      16\n",
       "            ..\n",
       " 693.0       1\n",
       " 12474.0     1\n",
       " 1309.0      1\n",
       " 1803.0      1\n",
       " 12473.0     1\n",
       " 5744.0      1\n",
       " 12221.0     1\n",
       " 2540.0      1\n",
       " 94724.0     1\n",
       " 785.0       1\n",
       " 1030.0      1\n",
       " 2118.0      1\n",
       " 1216.0      1\n",
       " 21.0        1\n",
       " 1184.0      1\n",
       " 19.0        1\n",
       " 17.0        1\n",
       " 3136.0      1\n",
       " 828.0       1\n",
       " 807.0       1\n",
       " 68.0        1\n",
       " 3207.0      1\n",
       " 3446.0      1\n",
       " 3258.0      1\n",
       " 17278.0     1\n",
       " 2444.0      1\n",
       " 709.0       1\n",
       " 2362.0      1\n",
       " 1811.0      1\n",
       " 1762.0      1\n",
       "Name: corpus_length, Length: 1323, dtype: int64"
      ]
     },
     "execution_count": 56,
     "metadata": {},
     "output_type": "execute_result"
    }
   ],
   "source": [
    "bill_model.corpus_length.value_counts(dropna=False)"
   ]
  },
  {
   "cell_type": "markdown",
   "metadata": {},
   "source": [
    "We have a few NaNs. I set these to 0."
   ]
  },
  {
   "cell_type": "code",
   "execution_count": 57,
   "metadata": {
    "collapsed": true
   },
   "outputs": [],
   "source": [
    "bill_model.corpus_length = bill_model.corpus_length.map(lambda x: 0 if np.isnan(x) else x)"
   ]
  },
  {
   "cell_type": "code",
   "execution_count": 58,
   "metadata": {
    "collapsed": false
   },
   "outputs": [
    {
     "data": {
      "text/html": [
       "<div>\n",
       "<style scoped>\n",
       "    .dataframe tbody tr th:only-of-type {\n",
       "        vertical-align: middle;\n",
       "    }\n",
       "\n",
       "    .dataframe tbody tr th {\n",
       "        vertical-align: top;\n",
       "    }\n",
       "\n",
       "    .dataframe thead th {\n",
       "        text-align: right;\n",
       "    }\n",
       "</style>\n",
       "<table border=\"1\" class=\"dataframe\">\n",
       "  <thead>\n",
       "    <tr style=\"text-align: right;\">\n",
       "      <th></th>\n",
       "      <th>chamber</th>\n",
       "      <th>enacted</th>\n",
       "      <th>sponsor_num</th>\n",
       "      <th>corpus_length</th>\n",
       "    </tr>\n",
       "  </thead>\n",
       "  <tbody>\n",
       "    <tr>\n",
       "      <th>0</th>\n",
       "      <td>lower</td>\n",
       "      <td>0</td>\n",
       "      <td>13</td>\n",
       "      <td>356.0</td>\n",
       "    </tr>\n",
       "    <tr>\n",
       "      <th>1</th>\n",
       "      <td>upper</td>\n",
       "      <td>0</td>\n",
       "      <td>10</td>\n",
       "      <td>1497.0</td>\n",
       "    </tr>\n",
       "    <tr>\n",
       "      <th>2</th>\n",
       "      <td>lower</td>\n",
       "      <td>0</td>\n",
       "      <td>1</td>\n",
       "      <td>310.0</td>\n",
       "    </tr>\n",
       "    <tr>\n",
       "      <th>3</th>\n",
       "      <td>upper</td>\n",
       "      <td>0</td>\n",
       "      <td>1</td>\n",
       "      <td>379.0</td>\n",
       "    </tr>\n",
       "    <tr>\n",
       "      <th>4</th>\n",
       "      <td>lower</td>\n",
       "      <td>0</td>\n",
       "      <td>2</td>\n",
       "      <td>279.0</td>\n",
       "    </tr>\n",
       "  </tbody>\n",
       "</table>\n",
       "</div>"
      ],
      "text/plain": [
       "  chamber  enacted  sponsor_num  corpus_length\n",
       "0   lower        0           13          356.0\n",
       "1   upper        0           10         1497.0\n",
       "2   lower        0            1          310.0\n",
       "3   upper        0            1          379.0\n",
       "4   lower        0            2          279.0"
      ]
     },
     "execution_count": 58,
     "metadata": {},
     "output_type": "execute_result"
    }
   ],
   "source": [
    "bill_model.head(5)"
   ]
  },
  {
   "cell_type": "markdown",
   "metadata": {},
   "source": [
    "I take the log of `sponsor_num` and `corpus_length` so they are of order 1."
   ]
  },
  {
   "cell_type": "code",
   "execution_count": 59,
   "metadata": {
    "collapsed": true
   },
   "outputs": [],
   "source": [
    "bill_model.corpus_length = bill_model.corpus_length.map(lambda x: np.log(x + 1))\n",
    "bill_model.sponsor_num = bill_model.sponsor_num.map(np.log)"
   ]
  },
  {
   "cell_type": "code",
   "execution_count": 60,
   "metadata": {
    "collapsed": false
   },
   "outputs": [
    {
     "data": {
      "text/html": [
       "<div>\n",
       "<style scoped>\n",
       "    .dataframe tbody tr th:only-of-type {\n",
       "        vertical-align: middle;\n",
       "    }\n",
       "\n",
       "    .dataframe tbody tr th {\n",
       "        vertical-align: top;\n",
       "    }\n",
       "\n",
       "    .dataframe thead th {\n",
       "        text-align: right;\n",
       "    }\n",
       "</style>\n",
       "<table border=\"1\" class=\"dataframe\">\n",
       "  <thead>\n",
       "    <tr style=\"text-align: right;\">\n",
       "      <th></th>\n",
       "      <th>chamber</th>\n",
       "      <th>enacted</th>\n",
       "      <th>sponsor_num</th>\n",
       "      <th>corpus_length</th>\n",
       "    </tr>\n",
       "  </thead>\n",
       "  <tbody>\n",
       "    <tr>\n",
       "      <th>0</th>\n",
       "      <td>lower</td>\n",
       "      <td>0</td>\n",
       "      <td>2.564949</td>\n",
       "      <td>5.877736</td>\n",
       "    </tr>\n",
       "    <tr>\n",
       "      <th>1</th>\n",
       "      <td>upper</td>\n",
       "      <td>0</td>\n",
       "      <td>2.302585</td>\n",
       "      <td>7.311886</td>\n",
       "    </tr>\n",
       "    <tr>\n",
       "      <th>2</th>\n",
       "      <td>lower</td>\n",
       "      <td>0</td>\n",
       "      <td>0.000000</td>\n",
       "      <td>5.739793</td>\n",
       "    </tr>\n",
       "    <tr>\n",
       "      <th>3</th>\n",
       "      <td>upper</td>\n",
       "      <td>0</td>\n",
       "      <td>0.000000</td>\n",
       "      <td>5.940171</td>\n",
       "    </tr>\n",
       "    <tr>\n",
       "      <th>4</th>\n",
       "      <td>lower</td>\n",
       "      <td>0</td>\n",
       "      <td>0.693147</td>\n",
       "      <td>5.634790</td>\n",
       "    </tr>\n",
       "  </tbody>\n",
       "</table>\n",
       "</div>"
      ],
      "text/plain": [
       "  chamber  enacted  sponsor_num  corpus_length\n",
       "0   lower        0     2.564949       5.877736\n",
       "1   upper        0     2.302585       7.311886\n",
       "2   lower        0     0.000000       5.739793\n",
       "3   upper        0     0.000000       5.940171\n",
       "4   lower        0     0.693147       5.634790"
      ]
     },
     "execution_count": 60,
     "metadata": {},
     "output_type": "execute_result"
    }
   ],
   "source": [
    "bill_model.head(5)"
   ]
  },
  {
   "cell_type": "markdown",
   "metadata": {},
   "source": [
    "Let's visualize their distributions."
   ]
  },
  {
   "cell_type": "code",
   "execution_count": 61,
   "metadata": {
    "collapsed": false
   },
   "outputs": [
    {
     "data": {
      "text/plain": [
       "<matplotlib.axes._subplots.AxesSubplot at 0x116242150>"
      ]
     },
     "execution_count": 61,
     "metadata": {},
     "output_type": "execute_result"
    },
    {
     "data": {
      "image/png": "[encoded data removed]",
      "text/plain": [
       "<matplotlib.figure.Figure at 0x18fe7ac50>"
      ]
     },
     "metadata": {},
     "output_type": "display_data"
    }
   ],
   "source": [
    "bill_model.sponsor_num.hist()"
   ]
  },
  {
   "cell_type": "code",
   "execution_count": 62,
   "metadata": {
    "collapsed": false
   },
   "outputs": [
    {
     "data": {
      "text/plain": [
       "<matplotlib.axes._subplots.AxesSubplot at 0x11695f890>"
      ]
     },
     "execution_count": 62,
     "metadata": {},
     "output_type": "execute_result"
    },
    {
     "data": {
      "image/png": "[encoded data removed]",
      "text/plain": [
       "<matplotlib.figure.Figure at 0x116961a10>"
      ]
     },
     "metadata": {},
     "output_type": "display_data"
    }
   ],
   "source": [
    "bill_model.corpus_length.hist()"
   ]
  },
  {
   "cell_type": "markdown",
   "metadata": {},
   "source": [
    "They both look reasonable."
   ]
  },
  {
   "cell_type": "markdown",
   "metadata": {},
   "source": [
    "Now let's make a big dataframe for modeling."
   ]
  },
  {
   "cell_type": "code",
   "execution_count": 63,
   "metadata": {
    "collapsed": false
   },
   "outputs": [
    {
     "data": {
      "text/html": [
       "<div>\n",
       "<style scoped>\n",
       "    .dataframe tbody tr th:only-of-type {\n",
       "        vertical-align: middle;\n",
       "    }\n",
       "\n",
       "    .dataframe tbody tr th {\n",
       "        vertical-align: top;\n",
       "    }\n",
       "\n",
       "    .dataframe thead th {\n",
       "        text-align: right;\n",
       "    }\n",
       "</style>\n",
       "<table border=\"1\" class=\"dataframe\">\n",
       "  <thead>\n",
       "    <tr style=\"text-align: right;\">\n",
       "      <th></th>\n",
       "      <th>chamber</th>\n",
       "      <th>enacted</th>\n",
       "      <th>sponsor_num</th>\n",
       "      <th>corpus_length</th>\n",
       "      <th>accord</th>\n",
       "      <th>act</th>\n",
       "      <th>administr</th>\n",
       "      <th>amend</th>\n",
       "      <th>amount</th>\n",
       "      <th>annot</th>\n",
       "      <th>...</th>\n",
       "      <th>titl</th>\n",
       "      <th>trust</th>\n",
       "      <th>unit</th>\n",
       "      <th>use</th>\n",
       "      <th>vehicl</th>\n",
       "      <th>violat</th>\n",
       "      <th>volum</th>\n",
       "      <th>within</th>\n",
       "      <th>work</th>\n",
       "      <th>year</th>\n",
       "    </tr>\n",
       "  </thead>\n",
       "  <tbody>\n",
       "    <tr>\n",
       "      <th>0</th>\n",
       "      <td>lower</td>\n",
       "      <td>0</td>\n",
       "      <td>2.564949</td>\n",
       "      <td>5.877736</td>\n",
       "      <td>0.025960</td>\n",
       "      <td>0.060458</td>\n",
       "      <td>0.000000</td>\n",
       "      <td>0.000000</td>\n",
       "      <td>0.000000</td>\n",
       "      <td>0.000000</td>\n",
       "      <td>...</td>\n",
       "      <td>0.000000</td>\n",
       "      <td>0.0</td>\n",
       "      <td>0.0</td>\n",
       "      <td>0.000000</td>\n",
       "      <td>0.000000</td>\n",
       "      <td>0.0</td>\n",
       "      <td>0.000000</td>\n",
       "      <td>0.000000</td>\n",
       "      <td>0.000000</td>\n",
       "      <td>0.022759</td>\n",
       "    </tr>\n",
       "    <tr>\n",
       "      <th>1</th>\n",
       "      <td>upper</td>\n",
       "      <td>0</td>\n",
       "      <td>2.302585</td>\n",
       "      <td>7.311886</td>\n",
       "      <td>0.007848</td>\n",
       "      <td>0.009138</td>\n",
       "      <td>0.277317</td>\n",
       "      <td>0.031038</td>\n",
       "      <td>0.000000</td>\n",
       "      <td>0.043671</td>\n",
       "      <td>...</td>\n",
       "      <td>0.036668</td>\n",
       "      <td>0.0</td>\n",
       "      <td>0.0</td>\n",
       "      <td>0.000000</td>\n",
       "      <td>0.000000</td>\n",
       "      <td>0.0</td>\n",
       "      <td>0.043964</td>\n",
       "      <td>0.008306</td>\n",
       "      <td>0.000000</td>\n",
       "      <td>0.220161</td>\n",
       "    </tr>\n",
       "    <tr>\n",
       "      <th>2</th>\n",
       "      <td>lower</td>\n",
       "      <td>0</td>\n",
       "      <td>0.000000</td>\n",
       "      <td>5.739793</td>\n",
       "      <td>0.000000</td>\n",
       "      <td>0.043007</td>\n",
       "      <td>0.052205</td>\n",
       "      <td>0.029215</td>\n",
       "      <td>0.000000</td>\n",
       "      <td>0.025691</td>\n",
       "      <td>...</td>\n",
       "      <td>0.086284</td>\n",
       "      <td>0.0</td>\n",
       "      <td>0.0</td>\n",
       "      <td>0.103626</td>\n",
       "      <td>0.670883</td>\n",
       "      <td>0.0</td>\n",
       "      <td>0.025863</td>\n",
       "      <td>0.000000</td>\n",
       "      <td>0.000000</td>\n",
       "      <td>0.000000</td>\n",
       "    </tr>\n",
       "    <tr>\n",
       "      <th>3</th>\n",
       "      <td>upper</td>\n",
       "      <td>0</td>\n",
       "      <td>0.000000</td>\n",
       "      <td>5.940171</td>\n",
       "      <td>0.047226</td>\n",
       "      <td>0.109983</td>\n",
       "      <td>0.000000</td>\n",
       "      <td>0.000000</td>\n",
       "      <td>0.261458</td>\n",
       "      <td>0.000000</td>\n",
       "      <td>...</td>\n",
       "      <td>0.000000</td>\n",
       "      <td>0.0</td>\n",
       "      <td>0.0</td>\n",
       "      <td>0.022084</td>\n",
       "      <td>0.000000</td>\n",
       "      <td>0.0</td>\n",
       "      <td>0.000000</td>\n",
       "      <td>0.024992</td>\n",
       "      <td>0.238996</td>\n",
       "      <td>0.020701</td>\n",
       "    </tr>\n",
       "    <tr>\n",
       "      <th>4</th>\n",
       "      <td>lower</td>\n",
       "      <td>0</td>\n",
       "      <td>0.693147</td>\n",
       "      <td>5.634790</td>\n",
       "      <td>0.000000</td>\n",
       "      <td>0.065867</td>\n",
       "      <td>0.000000</td>\n",
       "      <td>0.044744</td>\n",
       "      <td>0.125267</td>\n",
       "      <td>0.039347</td>\n",
       "      <td>...</td>\n",
       "      <td>0.000000</td>\n",
       "      <td>0.0</td>\n",
       "      <td>0.0</td>\n",
       "      <td>0.000000</td>\n",
       "      <td>0.000000</td>\n",
       "      <td>0.0</td>\n",
       "      <td>0.039611</td>\n",
       "      <td>0.000000</td>\n",
       "      <td>0.000000</td>\n",
       "      <td>0.148772</td>\n",
       "    </tr>\n",
       "  </tbody>\n",
       "</table>\n",
       "<p>5 rows × 104 columns</p>\n",
       "</div>"
      ],
      "text/plain": [
       "  chamber  enacted  sponsor_num  corpus_length    accord       act  administr  \\\n",
       "0   lower        0     2.564949       5.877736  0.025960  0.060458   0.000000   \n",
       "1   upper        0     2.302585       7.311886  0.007848  0.009138   0.277317   \n",
       "2   lower        0     0.000000       5.739793  0.000000  0.043007   0.052205   \n",
       "3   upper        0     0.000000       5.940171  0.047226  0.109983   0.000000   \n",
       "4   lower        0     0.693147       5.634790  0.000000  0.065867   0.000000   \n",
       "\n",
       "      amend    amount     annot    ...         titl  trust  unit       use  \\\n",
       "0  0.000000  0.000000  0.000000    ...     0.000000    0.0   0.0  0.000000   \n",
       "1  0.031038  0.000000  0.043671    ...     0.036668    0.0   0.0  0.000000   \n",
       "2  0.029215  0.000000  0.025691    ...     0.086284    0.0   0.0  0.103626   \n",
       "3  0.000000  0.261458  0.000000    ...     0.000000    0.0   0.0  0.022084   \n",
       "4  0.044744  0.125267  0.039347    ...     0.000000    0.0   0.0  0.000000   \n",
       "\n",
       "     vehicl  violat     volum    within      work      year  \n",
       "0  0.000000     0.0  0.000000  0.000000  0.000000  0.022759  \n",
       "1  0.000000     0.0  0.043964  0.008306  0.000000  0.220161  \n",
       "2  0.670883     0.0  0.025863  0.000000  0.000000  0.000000  \n",
       "3  0.000000     0.0  0.000000  0.024992  0.238996  0.020701  \n",
       "4  0.000000     0.0  0.039611  0.000000  0.000000  0.148772  \n",
       "\n",
       "[5 rows x 104 columns]"
      ]
     },
     "execution_count": 63,
     "metadata": {},
     "output_type": "execute_result"
    }
   ],
   "source": [
    "bill_df = pd.concat([bill_model, bill_tfidf_df], axis = 1)\n",
    "bill_df.head() # Check the first few rows"
   ]
  },
  {
   "cell_type": "markdown",
   "metadata": {},
   "source": [
    "Let's build the formula."
   ]
  },
  {
   "cell_type": "code",
   "execution_count": 64,
   "metadata": {
    "collapsed": false
   },
   "outputs": [
    {
     "name": "stdout",
     "output_type": "stream",
     "text": [
      "enacted ~ chamber + sponsor_num + corpus_length + accord + act + administr + amend + amount + annot + appli + applic + appropri + approv + articl + assembl + author + bill + board + bond + busi + certain + code + commiss + concern + counti + court + date + day + depart + determin + educ + effect + elect + employ + employe + enact + establish + facil + fee + follow + fund + gener + govern + health + hous + ii + iii + includ + individu + inform + insur + issu + law + licens + loan + local + maryland + may + mean + member + offic + oper + paragraph + person + plan + program + properti + provid + provis + public + purpos + regul + relat + repeal + replac + report + requir + sale + school + secretari + section + servic + shall + state + subject + subsect + subtitl + supplement + system + take + tax + term + time + titl + trust + unit + use + vehicl + violat + volum + within + work + year\n"
     ]
    }
   ],
   "source": [
    "# https://www.statsmodels.org/stable/index.html\n",
    "# https://www.statsmodels.org/devel/examples/notebooks/generated/ols.html\n",
    "bill_formula = 'enacted ~ chamber'\n",
    "for i, col in enumerate(bill_df):\n",
    "    if col != 'enacted' and col != 'chamber':\n",
    "        bill_formula = bill_formula + ' + ' + col\n",
    "print bill_formula"
   ]
  },
  {
   "cell_type": "markdown",
   "metadata": {},
   "source": [
    "Let's fit a logistic regression."
   ]
  },
  {
   "cell_type": "code",
   "execution_count": 65,
   "metadata": {
    "collapsed": false
   },
   "outputs": [
    {
     "name": "stdout",
     "output_type": "stream",
     "text": [
      "Optimization terminated successfully.\n",
      "         Current function value: 0.280600\n",
      "         Iterations 9\n"
     ]
    },
    {
     "data": {
      "text/html": [
       "<table class=\"simpletable\">\n",
       "<caption>Logit Regression Results</caption>\n",
       "<tr>\n",
       "  <th>Dep. Variable:</th>      <td>enacted</td>     <th>  No. Observations:  </th>   <td>  5189</td>  \n",
       "</tr>\n",
       "<tr>\n",
       "  <th>Model:</th>               <td>Logit</td>      <th>  Df Residuals:      </th>   <td>  5085</td>  \n",
       "</tr>\n",
       "<tr>\n",
       "  <th>Method:</th>               <td>MLE</td>       <th>  Df Model:          </th>   <td>   103</td>  \n",
       "</tr>\n",
       "<tr>\n",
       "  <th>Date:</th>          <td>Thu, 04 Apr 2019</td> <th>  Pseudo R-squ.:     </th>   <td>0.2835</td>  \n",
       "</tr>\n",
       "<tr>\n",
       "  <th>Time:</th>              <td>17:00:58</td>     <th>  Log-Likelihood:    </th>  <td> -1456.0</td> \n",
       "</tr>\n",
       "<tr>\n",
       "  <th>converged:</th>           <td>True</td>       <th>  LL-Null:           </th>  <td> -2032.2</td> \n",
       "</tr>\n",
       "<tr>\n",
       "  <th> </th>                      <td> </td>        <th>  LLR p-value:       </th> <td>7.572e-177</td>\n",
       "</tr>\n",
       "</table>\n",
       "<table class=\"simpletable\">\n",
       "<tr>\n",
       "          <td></td>            <th>coef</th>     <th>std err</th>      <th>z</th>      <th>P>|z|</th>  <th>[0.025</th>    <th>0.975]</th>  \n",
       "</tr>\n",
       "<tr>\n",
       "  <th>Intercept</th>        <td>    1.4399</td> <td>    0.380</td> <td>    3.792</td> <td> 0.000</td> <td>    0.696</td> <td>    2.184</td>\n",
       "</tr>\n",
       "<tr>\n",
       "  <th>chamber[T.upper]</th> <td>    0.2404</td> <td>    0.112</td> <td>    2.145</td> <td> 0.032</td> <td>    0.021</td> <td>    0.460</td>\n",
       "</tr>\n",
       "<tr>\n",
       "  <th>sponsor_num</th>      <td>    0.0694</td> <td>    0.045</td> <td>    1.534</td> <td> 0.125</td> <td>   -0.019</td> <td>    0.158</td>\n",
       "</tr>\n",
       "<tr>\n",
       "  <th>corpus_length</th>    <td>   -0.1109</td> <td>    0.041</td> <td>   -2.719</td> <td> 0.007</td> <td>   -0.191</td> <td>   -0.031</td>\n",
       "</tr>\n",
       "<tr>\n",
       "  <th>accord</th>           <td>    0.2894</td> <td>    1.834</td> <td>    0.158</td> <td> 0.875</td> <td>   -3.305</td> <td>    3.884</td>\n",
       "</tr>\n",
       "<tr>\n",
       "  <th>act</th>              <td>    2.1235</td> <td>    1.036</td> <td>    2.050</td> <td> 0.040</td> <td>    0.093</td> <td>    4.154</td>\n",
       "</tr>\n",
       "<tr>\n",
       "  <th>administr</th>        <td>   -1.7334</td> <td>    0.685</td> <td>   -2.529</td> <td> 0.011</td> <td>   -3.077</td> <td>   -0.390</td>\n",
       "</tr>\n",
       "<tr>\n",
       "  <th>amend</th>            <td>   -2.4136</td> <td>    1.636</td> <td>   -1.476</td> <td> 0.140</td> <td>   -5.620</td> <td>    0.792</td>\n",
       "</tr>\n",
       "<tr>\n",
       "  <th>amount</th>           <td>   -1.6776</td> <td>    1.003</td> <td>   -1.672</td> <td> 0.094</td> <td>   -3.644</td> <td>    0.289</td>\n",
       "</tr>\n",
       "<tr>\n",
       "  <th>annot</th>            <td>   -2.3002</td> <td>    6.831</td> <td>   -0.337</td> <td> 0.736</td> <td>  -15.690</td> <td>   11.089</td>\n",
       "</tr>\n",
       "<tr>\n",
       "  <th>appli</th>            <td>   -0.6741</td> <td>    1.437</td> <td>   -0.469</td> <td> 0.639</td> <td>   -3.490</td> <td>    2.141</td>\n",
       "</tr>\n",
       "<tr>\n",
       "  <th>applic</th>           <td>   -1.3784</td> <td>    0.729</td> <td>   -1.891</td> <td> 0.059</td> <td>   -2.807</td> <td>    0.050</td>\n",
       "</tr>\n",
       "<tr>\n",
       "  <th>appropri</th>         <td>   -0.7920</td> <td>    1.245</td> <td>   -0.636</td> <td> 0.525</td> <td>   -3.231</td> <td>    1.647</td>\n",
       "</tr>\n",
       "<tr>\n",
       "  <th>approv</th>           <td>   11.4757</td> <td>    0.956</td> <td>   12.007</td> <td> 0.000</td> <td>    9.602</td> <td>   13.349</td>\n",
       "</tr>\n",
       "<tr>\n",
       "  <th>articl</th>           <td>   -0.3339</td> <td>    0.944</td> <td>   -0.354</td> <td> 0.724</td> <td>   -2.184</td> <td>    1.516</td>\n",
       "</tr>\n",
       "<tr>\n",
       "  <th>assembl</th>          <td>    3.1943</td> <td>    2.847</td> <td>    1.122</td> <td> 0.262</td> <td>   -2.385</td> <td>    8.774</td>\n",
       "</tr>\n",
       "<tr>\n",
       "  <th>author</th>           <td>   -3.7014</td> <td>    1.000</td> <td>   -3.701</td> <td> 0.000</td> <td>   -5.662</td> <td>   -1.741</td>\n",
       "</tr>\n",
       "<tr>\n",
       "  <th>bill</th>             <td>  -20.9222</td> <td>    4.686</td> <td>   -4.465</td> <td> 0.000</td> <td>  -30.107</td> <td>  -11.737</td>\n",
       "</tr>\n",
       "<tr>\n",
       "  <th>board</th>            <td>   -1.2794</td> <td>    0.431</td> <td>   -2.967</td> <td> 0.003</td> <td>   -2.125</td> <td>   -0.434</td>\n",
       "</tr>\n",
       "<tr>\n",
       "  <th>bond</th>             <td>    0.0001</td> <td>    0.639</td> <td>    0.000</td> <td> 1.000</td> <td>   -1.252</td> <td>    1.252</td>\n",
       "</tr>\n",
       "<tr>\n",
       "  <th>busi</th>             <td>    0.3167</td> <td>    0.478</td> <td>    0.662</td> <td> 0.508</td> <td>   -0.621</td> <td>    1.254</td>\n",
       "</tr>\n",
       "<tr>\n",
       "  <th>certain</th>          <td>   -1.5473</td> <td>    0.829</td> <td>   -1.866</td> <td> 0.062</td> <td>   -3.172</td> <td>    0.078</td>\n",
       "</tr>\n",
       "<tr>\n",
       "  <th>code</th>             <td>   -0.6999</td> <td>    1.681</td> <td>   -0.416</td> <td> 0.677</td> <td>   -3.994</td> <td>    2.594</td>\n",
       "</tr>\n",
       "<tr>\n",
       "  <th>commiss</th>          <td>   -0.8196</td> <td>    0.394</td> <td>   -2.079</td> <td> 0.038</td> <td>   -1.592</td> <td>   -0.047</td>\n",
       "</tr>\n",
       "<tr>\n",
       "  <th>concern</th>          <td>  -13.4320</td> <td>    6.040</td> <td>   -2.224</td> <td> 0.026</td> <td>  -25.270</td> <td>   -1.594</td>\n",
       "</tr>\n",
       "<tr>\n",
       "  <th>counti</th>           <td>    0.4199</td> <td>    0.313</td> <td>    1.342</td> <td> 0.180</td> <td>   -0.193</td> <td>    1.033</td>\n",
       "</tr>\n",
       "<tr>\n",
       "  <th>court</th>            <td>   -2.1584</td> <td>    0.457</td> <td>   -4.719</td> <td> 0.000</td> <td>   -3.055</td> <td>   -1.262</td>\n",
       "</tr>\n",
       "<tr>\n",
       "  <th>date</th>             <td>    1.4029</td> <td>    1.171</td> <td>    1.198</td> <td> 0.231</td> <td>   -0.893</td> <td>    3.699</td>\n",
       "</tr>\n",
       "<tr>\n",
       "  <th>day</th>              <td>   -0.4274</td> <td>    0.516</td> <td>   -0.828</td> <td> 0.408</td> <td>   -1.439</td> <td>    0.584</td>\n",
       "</tr>\n",
       "<tr>\n",
       "  <th>depart</th>           <td>    0.5927</td> <td>    0.425</td> <td>    1.394</td> <td> 0.163</td> <td>   -0.240</td> <td>    1.426</td>\n",
       "</tr>\n",
       "<tr>\n",
       "  <th>determin</th>         <td>   -3.3843</td> <td>    1.390</td> <td>   -2.435</td> <td> 0.015</td> <td>   -6.108</td> <td>   -0.661</td>\n",
       "</tr>\n",
       "<tr>\n",
       "  <th>educ</th>             <td>   -1.1122</td> <td>    0.462</td> <td>   -2.407</td> <td> 0.016</td> <td>   -2.018</td> <td>   -0.206</td>\n",
       "</tr>\n",
       "<tr>\n",
       "  <th>effect</th>           <td>   -0.3424</td> <td>    2.389</td> <td>   -0.143</td> <td> 0.886</td> <td>   -5.025</td> <td>    4.340</td>\n",
       "</tr>\n",
       "<tr>\n",
       "  <th>elect</th>            <td>   -1.9172</td> <td>    0.529</td> <td>   -3.623</td> <td> 0.000</td> <td>   -2.954</td> <td>   -0.880</td>\n",
       "</tr>\n",
       "<tr>\n",
       "  <th>employ</th>           <td>   -0.4592</td> <td>    0.523</td> <td>   -0.878</td> <td> 0.380</td> <td>   -1.485</td> <td>    0.566</td>\n",
       "</tr>\n",
       "<tr>\n",
       "  <th>employe</th>          <td>   -0.0931</td> <td>    0.435</td> <td>   -0.214</td> <td> 0.831</td> <td>   -0.946</td> <td>    0.760</td>\n",
       "</tr>\n",
       "<tr>\n",
       "  <th>enact</th>            <td>  -11.3320</td> <td>    3.614</td> <td>   -3.135</td> <td> 0.002</td> <td>  -18.416</td> <td>   -4.248</td>\n",
       "</tr>\n",
       "<tr>\n",
       "  <th>establish</th>        <td>    0.5920</td> <td>    0.929</td> <td>    0.637</td> <td> 0.524</td> <td>   -1.229</td> <td>    2.413</td>\n",
       "</tr>\n",
       "<tr>\n",
       "  <th>facil</th>            <td>   -0.7643</td> <td>    0.491</td> <td>   -1.558</td> <td> 0.119</td> <td>   -1.726</td> <td>    0.197</td>\n",
       "</tr>\n",
       "<tr>\n",
       "  <th>fee</th>              <td>   -1.5734</td> <td>    0.712</td> <td>   -2.211</td> <td> 0.027</td> <td>   -2.968</td> <td>   -0.179</td>\n",
       "</tr>\n",
       "<tr>\n",
       "  <th>follow</th>           <td>   -6.4976</td> <td>    2.919</td> <td>   -2.226</td> <td> 0.026</td> <td>  -12.219</td> <td>   -0.776</td>\n",
       "</tr>\n",
       "<tr>\n",
       "  <th>fund</th>             <td>   -1.5421</td> <td>    0.462</td> <td>   -3.340</td> <td> 0.001</td> <td>   -2.447</td> <td>   -0.637</td>\n",
       "</tr>\n",
       "<tr>\n",
       "  <th>gener</th>            <td>   -5.1804</td> <td>    1.959</td> <td>   -2.644</td> <td> 0.008</td> <td>   -9.020</td> <td>   -1.341</td>\n",
       "</tr>\n",
       "<tr>\n",
       "  <th>govern</th>           <td>    0.4144</td> <td>    0.843</td> <td>    0.491</td> <td> 0.623</td> <td>   -1.238</td> <td>    2.067</td>\n",
       "</tr>\n",
       "<tr>\n",
       "  <th>health</th>           <td>    0.0011</td> <td>    0.365</td> <td>    0.003</td> <td> 0.998</td> <td>   -0.715</td> <td>    0.717</td>\n",
       "</tr>\n",
       "<tr>\n",
       "  <th>hous</th>             <td>   -0.1148</td> <td>    1.572</td> <td>   -0.073</td> <td> 0.942</td> <td>   -3.197</td> <td>    2.967</td>\n",
       "</tr>\n",
       "<tr>\n",
       "  <th>ii</th>               <td>   -1.1045</td> <td>    1.860</td> <td>   -0.594</td> <td> 0.553</td> <td>   -4.750</td> <td>    2.541</td>\n",
       "</tr>\n",
       "<tr>\n",
       "  <th>iii</th>              <td>   -0.6650</td> <td>    2.091</td> <td>   -0.318</td> <td> 0.750</td> <td>   -4.764</td> <td>    3.434</td>\n",
       "</tr>\n",
       "<tr>\n",
       "  <th>includ</th>           <td>    2.7172</td> <td>    1.059</td> <td>    2.565</td> <td> 0.010</td> <td>    0.641</td> <td>    4.793</td>\n",
       "</tr>\n",
       "<tr>\n",
       "  <th>individu</th>         <td>   -1.0442</td> <td>    0.515</td> <td>   -2.026</td> <td> 0.043</td> <td>   -2.054</td> <td>   -0.034</td>\n",
       "</tr>\n",
       "<tr>\n",
       "  <th>inform</th>           <td>   -1.0580</td> <td>    0.773</td> <td>   -1.370</td> <td> 0.171</td> <td>   -2.572</td> <td>    0.456</td>\n",
       "</tr>\n",
       "<tr>\n",
       "  <th>insur</th>            <td>   -0.9439</td> <td>    0.363</td> <td>   -2.600</td> <td> 0.009</td> <td>   -1.656</td> <td>   -0.232</td>\n",
       "</tr>\n",
       "<tr>\n",
       "  <th>issu</th>             <td>   -1.7755</td> <td>    0.865</td> <td>   -2.053</td> <td> 0.040</td> <td>   -3.470</td> <td>   -0.080</td>\n",
       "</tr>\n",
       "<tr>\n",
       "  <th>law</th>              <td>    8.1627</td> <td>    0.925</td> <td>    8.820</td> <td> 0.000</td> <td>    6.349</td> <td>    9.977</td>\n",
       "</tr>\n",
       "<tr>\n",
       "  <th>licens</th>           <td>   -0.2756</td> <td>    0.293</td> <td>   -0.942</td> <td> 0.346</td> <td>   -0.849</td> <td>    0.298</td>\n",
       "</tr>\n",
       "<tr>\n",
       "  <th>loan</th>             <td>   -5.1880</td> <td>    1.269</td> <td>   -4.089</td> <td> 0.000</td> <td>   -7.674</td> <td>   -2.702</td>\n",
       "</tr>\n",
       "<tr>\n",
       "  <th>local</th>            <td>   -1.5491</td> <td>    0.644</td> <td>   -2.406</td> <td> 0.016</td> <td>   -2.811</td> <td>   -0.287</td>\n",
       "</tr>\n",
       "<tr>\n",
       "  <th>maryland</th>         <td>    7.3587</td> <td>    0.869</td> <td>    8.469</td> <td> 0.000</td> <td>    5.656</td> <td>    9.062</td>\n",
       "</tr>\n",
       "<tr>\n",
       "  <th>may</th>              <td>    6.9526</td> <td>    1.025</td> <td>    6.780</td> <td> 0.000</td> <td>    4.943</td> <td>    8.962</td>\n",
       "</tr>\n",
       "<tr>\n",
       "  <th>mean</th>             <td>    0.8140</td> <td>    0.818</td> <td>    0.996</td> <td> 0.319</td> <td>   -0.788</td> <td>    2.416</td>\n",
       "</tr>\n",
       "<tr>\n",
       "  <th>member</th>           <td>   -0.5634</td> <td>    0.447</td> <td>   -1.260</td> <td> 0.208</td> <td>   -1.440</td> <td>    0.313</td>\n",
       "</tr>\n",
       "<tr>\n",
       "  <th>offic</th>            <td>   -2.3072</td> <td>    0.618</td> <td>   -3.733</td> <td> 0.000</td> <td>   -3.519</td> <td>   -1.096</td>\n",
       "</tr>\n",
       "<tr>\n",
       "  <th>oper</th>             <td>   -0.7627</td> <td>    0.674</td> <td>   -1.131</td> <td> 0.258</td> <td>   -2.084</td> <td>    0.559</td>\n",
       "</tr>\n",
       "<tr>\n",
       "  <th>paragraph</th>        <td>   -1.6950</td> <td>    1.360</td> <td>   -1.246</td> <td> 0.213</td> <td>   -4.361</td> <td>    0.971</td>\n",
       "</tr>\n",
       "<tr>\n",
       "  <th>person</th>           <td>   -2.0474</td> <td>    0.463</td> <td>   -4.427</td> <td> 0.000</td> <td>   -2.954</td> <td>   -1.141</td>\n",
       "</tr>\n",
       "<tr>\n",
       "  <th>plan</th>             <td>   -3.3362</td> <td>    0.670</td> <td>   -4.977</td> <td> 0.000</td> <td>   -4.650</td> <td>   -2.023</td>\n",
       "</tr>\n",
       "<tr>\n",
       "  <th>program</th>          <td>   -0.9358</td> <td>    0.437</td> <td>   -2.140</td> <td> 0.032</td> <td>   -1.793</td> <td>   -0.079</td>\n",
       "</tr>\n",
       "<tr>\n",
       "  <th>properti</th>         <td>    0.1592</td> <td>    0.405</td> <td>    0.393</td> <td> 0.695</td> <td>   -0.635</td> <td>    0.954</td>\n",
       "</tr>\n",
       "<tr>\n",
       "  <th>provid</th>           <td>    0.1776</td> <td>    0.871</td> <td>    0.204</td> <td> 0.839</td> <td>   -1.530</td> <td>    1.885</td>\n",
       "</tr>\n",
       "<tr>\n",
       "  <th>provis</th>           <td>    1.1741</td> <td>    1.163</td> <td>    1.009</td> <td> 0.313</td> <td>   -1.106</td> <td>    3.454</td>\n",
       "</tr>\n",
       "<tr>\n",
       "  <th>public</th>           <td>    0.3759</td> <td>    0.620</td> <td>    0.606</td> <td> 0.545</td> <td>   -0.840</td> <td>    1.592</td>\n",
       "</tr>\n",
       "<tr>\n",
       "  <th>purpos</th>           <td>   -9.4990</td> <td>    3.084</td> <td>   -3.080</td> <td> 0.002</td> <td>  -15.544</td> <td>   -3.454</td>\n",
       "</tr>\n",
       "<tr>\n",
       "  <th>regul</th>            <td>   -0.6931</td> <td>    0.698</td> <td>   -0.993</td> <td> 0.321</td> <td>   -2.061</td> <td>    0.675</td>\n",
       "</tr>\n",
       "<tr>\n",
       "  <th>relat</th>            <td>   -0.0348</td> <td>    1.846</td> <td>   -0.019</td> <td> 0.985</td> <td>   -3.653</td> <td>    3.583</td>\n",
       "</tr>\n",
       "<tr>\n",
       "  <th>repeal</th>           <td>    5.0760</td> <td>    2.007</td> <td>    2.530</td> <td> 0.011</td> <td>    1.143</td> <td>    9.009</td>\n",
       "</tr>\n",
       "<tr>\n",
       "  <th>replac</th>           <td>   13.1052</td> <td>    3.317</td> <td>    3.951</td> <td> 0.000</td> <td>    6.604</td> <td>   19.606</td>\n",
       "</tr>\n",
       "<tr>\n",
       "  <th>report</th>           <td>    0.4862</td> <td>    0.555</td> <td>    0.875</td> <td> 0.381</td> <td>   -0.602</td> <td>    1.575</td>\n",
       "</tr>\n",
       "<tr>\n",
       "  <th>requir</th>           <td>    0.2206</td> <td>    0.932</td> <td>    0.237</td> <td> 0.813</td> <td>   -1.605</td> <td>    2.046</td>\n",
       "</tr>\n",
       "<tr>\n",
       "  <th>sale</th>             <td>   -0.6752</td> <td>    0.621</td> <td>   -1.087</td> <td> 0.277</td> <td>   -1.893</td> <td>    0.542</td>\n",
       "</tr>\n",
       "<tr>\n",
       "  <th>school</th>           <td>   -1.3212</td> <td>    0.388</td> <td>   -3.403</td> <td> 0.001</td> <td>   -2.082</td> <td>   -0.560</td>\n",
       "</tr>\n",
       "<tr>\n",
       "  <th>secretari</th>        <td>    0.2996</td> <td>    0.533</td> <td>    0.563</td> <td> 0.574</td> <td>   -0.744</td> <td>    1.343</td>\n",
       "</tr>\n",
       "<tr>\n",
       "  <th>section</th>          <td>   -3.3444</td> <td>    1.292</td> <td>   -2.588</td> <td> 0.010</td> <td>   -5.877</td> <td>   -0.812</td>\n",
       "</tr>\n",
       "<tr>\n",
       "  <th>servic</th>           <td>   -0.1560</td> <td>    0.417</td> <td>   -0.374</td> <td> 0.708</td> <td>   -0.973</td> <td>    0.661</td>\n",
       "</tr>\n",
       "<tr>\n",
       "  <th>shall</th>            <td>   -2.2237</td> <td>    1.029</td> <td>   -2.161</td> <td> 0.031</td> <td>   -4.240</td> <td>   -0.207</td>\n",
       "</tr>\n",
       "<tr>\n",
       "  <th>state</th>            <td>   -1.8997</td> <td>    0.586</td> <td>   -3.241</td> <td> 0.001</td> <td>   -3.049</td> <td>   -0.751</td>\n",
       "</tr>\n",
       "<tr>\n",
       "  <th>subject</th>          <td>   -3.0019</td> <td>    1.543</td> <td>   -1.946</td> <td> 0.052</td> <td>   -6.026</td> <td>    0.022</td>\n",
       "</tr>\n",
       "<tr>\n",
       "  <th>subsect</th>          <td>   -2.6372</td> <td>    1.209</td> <td>   -2.181</td> <td> 0.029</td> <td>   -5.007</td> <td>   -0.268</td>\n",
       "</tr>\n",
       "<tr>\n",
       "  <th>subtitl</th>          <td>   -0.9287</td> <td>    0.776</td> <td>   -1.197</td> <td> 0.231</td> <td>   -2.449</td> <td>    0.592</td>\n",
       "</tr>\n",
       "<tr>\n",
       "  <th>supplement</th>       <td>   -2.9433</td> <td>    2.599</td> <td>   -1.132</td> <td> 0.257</td> <td>   -8.037</td> <td>    2.151</td>\n",
       "</tr>\n",
       "<tr>\n",
       "  <th>system</th>           <td>   -0.1089</td> <td>    0.457</td> <td>   -0.238</td> <td> 0.812</td> <td>   -1.004</td> <td>    0.787</td>\n",
       "</tr>\n",
       "<tr>\n",
       "  <th>take</th>             <td>    3.4489</td> <td>    2.871</td> <td>    1.201</td> <td> 0.230</td> <td>   -2.179</td> <td>    9.077</td>\n",
       "</tr>\n",
       "<tr>\n",
       "  <th>tax</th>              <td>   -1.9577</td> <td>    0.458</td> <td>   -4.273</td> <td> 0.000</td> <td>   -2.856</td> <td>   -1.060</td>\n",
       "</tr>\n",
       "<tr>\n",
       "  <th>term</th>             <td>   -3.3818</td> <td>    1.379</td> <td>   -2.453</td> <td> 0.014</td> <td>   -6.084</td> <td>   -0.680</td>\n",
       "</tr>\n",
       "<tr>\n",
       "  <th>time</th>             <td>   -0.3461</td> <td>    1.163</td> <td>   -0.298</td> <td> 0.766</td> <td>   -2.625</td> <td>    1.933</td>\n",
       "</tr>\n",
       "<tr>\n",
       "  <th>titl</th>             <td>   -0.7884</td> <td>    0.768</td> <td>   -1.026</td> <td> 0.305</td> <td>   -2.295</td> <td>    0.718</td>\n",
       "</tr>\n",
       "<tr>\n",
       "  <th>trust</th>            <td>    0.1170</td> <td>    0.574</td> <td>    0.204</td> <td> 0.839</td> <td>   -1.008</td> <td>    1.242</td>\n",
       "</tr>\n",
       "<tr>\n",
       "  <th>unit</th>             <td>   -1.3746</td> <td>    0.571</td> <td>   -2.409</td> <td> 0.016</td> <td>   -2.493</td> <td>   -0.256</td>\n",
       "</tr>\n",
       "<tr>\n",
       "  <th>use</th>              <td>    0.0551</td> <td>    0.678</td> <td>    0.081</td> <td> 0.935</td> <td>   -1.274</td> <td>    1.384</td>\n",
       "</tr>\n",
       "<tr>\n",
       "  <th>vehicl</th>           <td>   -1.6181</td> <td>    0.368</td> <td>   -4.397</td> <td> 0.000</td> <td>   -2.339</td> <td>   -0.897</td>\n",
       "</tr>\n",
       "<tr>\n",
       "  <th>violat</th>           <td>   -1.4959</td> <td>    0.642</td> <td>   -2.328</td> <td> 0.020</td> <td>   -2.755</td> <td>   -0.237</td>\n",
       "</tr>\n",
       "<tr>\n",
       "  <th>volum</th>            <td>  -14.2975</td> <td>    7.799</td> <td>   -1.833</td> <td> 0.067</td> <td>  -29.582</td> <td>    0.987</td>\n",
       "</tr>\n",
       "<tr>\n",
       "  <th>within</th>           <td>   -1.0715</td> <td>    1.177</td> <td>   -0.910</td> <td> 0.363</td> <td>   -3.379</td> <td>    1.236</td>\n",
       "</tr>\n",
       "<tr>\n",
       "  <th>work</th>             <td>   -1.4969</td> <td>    0.941</td> <td>   -1.591</td> <td> 0.112</td> <td>   -3.341</td> <td>    0.348</td>\n",
       "</tr>\n",
       "<tr>\n",
       "  <th>year</th>             <td>    1.4225</td> <td>    0.567</td> <td>    2.508</td> <td> 0.012</td> <td>    0.311</td> <td>    2.534</td>\n",
       "</tr>\n",
       "</table>"
      ],
      "text/plain": [
       "<class 'statsmodels.iolib.summary.Summary'>\n",
       "\"\"\"\n",
       "                           Logit Regression Results                           \n",
       "==============================================================================\n",
       "Dep. Variable:                enacted   No. Observations:                 5189\n",
       "Model:                          Logit   Df Residuals:                     5085\n",
       "Method:                           MLE   Df Model:                          103\n",
       "Date:                Thu, 04 Apr 2019   Pseudo R-squ.:                  0.2835\n",
       "Time:                        17:00:58   Log-Likelihood:                -1456.0\n",
       "converged:                       True   LL-Null:                       -2032.2\n",
       "                                        LLR p-value:                7.572e-177\n",
       "====================================================================================\n",
       "                       coef    std err          z      P>|z|      [0.025      0.975]\n",
       "------------------------------------------------------------------------------------\n",
       "Intercept            1.4399      0.380      3.792      0.000       0.696       2.184\n",
       "chamber[T.upper]     0.2404      0.112      2.145      0.032       0.021       0.460\n",
       "sponsor_num          0.0694      0.045      1.534      0.125      -0.019       0.158\n",
       "corpus_length       -0.1109      0.041     -2.719      0.007      -0.191      -0.031\n",
       "accord               0.2894      1.834      0.158      0.875      -3.305       3.884\n",
       "act                  2.1235      1.036      2.050      0.040       0.093       4.154\n",
       "administr           -1.7334      0.685     -2.529      0.011      -3.077      -0.390\n",
       "amend               -2.4136      1.636     -1.476      0.140      -5.620       0.792\n",
       "amount              -1.6776      1.003     -1.672      0.094      -3.644       0.289\n",
       "annot               -2.3002      6.831     -0.337      0.736     -15.690      11.089\n",
       "appli               -0.6741      1.437     -0.469      0.639      -3.490       2.141\n",
       "applic              -1.3784      0.729     -1.891      0.059      -2.807       0.050\n",
       "appropri            -0.7920      1.245     -0.636      0.525      -3.231       1.647\n",
       "approv              11.4757      0.956     12.007      0.000       9.602      13.349\n",
       "articl              -0.3339      0.944     -0.354      0.724      -2.184       1.516\n",
       "assembl              3.1943      2.847      1.122      0.262      -2.385       8.774\n",
       "author              -3.7014      1.000     -3.701      0.000      -5.662      -1.741\n",
       "bill               -20.9222      4.686     -4.465      0.000     -30.107     -11.737\n",
       "board               -1.2794      0.431     -2.967      0.003      -2.125      -0.434\n",
       "bond                 0.0001      0.639      0.000      1.000      -1.252       1.252\n",
       "busi                 0.3167      0.478      0.662      0.508      -0.621       1.254\n",
       "certain             -1.5473      0.829     -1.866      0.062      -3.172       0.078\n",
       "code                -0.6999      1.681     -0.416      0.677      -3.994       2.594\n",
       "commiss             -0.8196      0.394     -2.079      0.038      -1.592      -0.047\n",
       "concern            -13.4320      6.040     -2.224      0.026     -25.270      -1.594\n",
       "counti               0.4199      0.313      1.342      0.180      -0.193       1.033\n",
       "court               -2.1584      0.457     -4.719      0.000      -3.055      -1.262\n",
       "date                 1.4029      1.171      1.198      0.231      -0.893       3.699\n",
       "day                 -0.4274      0.516     -0.828      0.408      -1.439       0.584\n",
       "depart               0.5927      0.425      1.394      0.163      -0.240       1.426\n",
       "determin            -3.3843      1.390     -2.435      0.015      -6.108      -0.661\n",
       "educ                -1.1122      0.462     -2.407      0.016      -2.018      -0.206\n",
       "effect              -0.3424      2.389     -0.143      0.886      -5.025       4.340\n",
       "elect               -1.9172      0.529     -3.623      0.000      -2.954      -0.880\n",
       "employ              -0.4592      0.523     -0.878      0.380      -1.485       0.566\n",
       "employe             -0.0931      0.435     -0.214      0.831      -0.946       0.760\n",
       "enact              -11.3320      3.614     -3.135      0.002     -18.416      -4.248\n",
       "establish            0.5920      0.929      0.637      0.524      -1.229       2.413\n",
       "facil               -0.7643      0.491     -1.558      0.119      -1.726       0.197\n",
       "fee                 -1.5734      0.712     -2.211      0.027      -2.968      -0.179\n",
       "follow              -6.4976      2.919     -2.226      0.026     -12.219      -0.776\n",
       "fund                -1.5421      0.462     -3.340      0.001      -2.447      -0.637\n",
       "gener               -5.1804      1.959     -2.644      0.008      -9.020      -1.341\n",
       "govern               0.4144      0.843      0.491      0.623      -1.238       2.067\n",
       "health               0.0011      0.365      0.003      0.998      -0.715       0.717\n",
       "hous                -0.1148      1.572     -0.073      0.942      -3.197       2.967\n",
       "ii                  -1.1045      1.860     -0.594      0.553      -4.750       2.541\n",
       "iii                 -0.6650      2.091     -0.318      0.750      -4.764       3.434\n",
       "includ               2.7172      1.059      2.565      0.010       0.641       4.793\n",
       "individu            -1.0442      0.515     -2.026      0.043      -2.054      -0.034\n",
       "inform              -1.0580      0.773     -1.370      0.171      -2.572       0.456\n",
       "insur               -0.9439      0.363     -2.600      0.009      -1.656      -0.232\n",
       "issu                -1.7755      0.865     -2.053      0.040      -3.470      -0.080\n",
       "law                  8.1627      0.925      8.820      0.000       6.349       9.977\n",
       "licens              -0.2756      0.293     -0.942      0.346      -0.849       0.298\n",
       "loan                -5.1880      1.269     -4.089      0.000      -7.674      -2.702\n",
       "local               -1.5491      0.644     -2.406      0.016      -2.811      -0.287\n",
       "maryland             7.3587      0.869      8.469      0.000       5.656       9.062\n",
       "may                  6.9526      1.025      6.780      0.000       4.943       8.962\n",
       "mean                 0.8140      0.818      0.996      0.319      -0.788       2.416\n",
       "member              -0.5634      0.447     -1.260      0.208      -1.440       0.313\n",
       "offic               -2.3072      0.618     -3.733      0.000      -3.519      -1.096\n",
       "oper                -0.7627      0.674     -1.131      0.258      -2.084       0.559\n",
       "paragraph           -1.6950      1.360     -1.246      0.213      -4.361       0.971\n",
       "person              -2.0474      0.463     -4.427      0.000      -2.954      -1.141\n",
       "plan                -3.3362      0.670     -4.977      0.000      -4.650      -2.023\n",
       "program             -0.9358      0.437     -2.140      0.032      -1.793      -0.079\n",
       "properti             0.1592      0.405      0.393      0.695      -0.635       0.954\n",
       "provid               0.1776      0.871      0.204      0.839      -1.530       1.885\n",
       "provis               1.1741      1.163      1.009      0.313      -1.106       3.454\n",
       "public               0.3759      0.620      0.606      0.545      -0.840       1.592\n",
       "purpos              -9.4990      3.084     -3.080      0.002     -15.544      -3.454\n",
       "regul               -0.6931      0.698     -0.993      0.321      -2.061       0.675\n",
       "relat               -0.0348      1.846     -0.019      0.985      -3.653       3.583\n",
       "repeal               5.0760      2.007      2.530      0.011       1.143       9.009\n",
       "replac              13.1052      3.317      3.951      0.000       6.604      19.606\n",
       "report               0.4862      0.555      0.875      0.381      -0.602       1.575\n",
       "requir               0.2206      0.932      0.237      0.813      -1.605       2.046\n",
       "sale                -0.6752      0.621     -1.087      0.277      -1.893       0.542\n",
       "school              -1.3212      0.388     -3.403      0.001      -2.082      -0.560\n",
       "secretari            0.2996      0.533      0.563      0.574      -0.744       1.343\n",
       "section             -3.3444      1.292     -2.588      0.010      -5.877      -0.812\n",
       "servic              -0.1560      0.417     -0.374      0.708      -0.973       0.661\n",
       "shall               -2.2237      1.029     -2.161      0.031      -4.240      -0.207\n",
       "state               -1.8997      0.586     -3.241      0.001      -3.049      -0.751\n",
       "subject             -3.0019      1.543     -1.946      0.052      -6.026       0.022\n",
       "subsect             -2.6372      1.209     -2.181      0.029      -5.007      -0.268\n",
       "subtitl             -0.9287      0.776     -1.197      0.231      -2.449       0.592\n",
       "supplement          -2.9433      2.599     -1.132      0.257      -8.037       2.151\n",
       "system              -0.1089      0.457     -0.238      0.812      -1.004       0.787\n",
       "take                 3.4489      2.871      1.201      0.230      -2.179       9.077\n",
       "tax                 -1.9577      0.458     -4.273      0.000      -2.856      -1.060\n",
       "term                -3.3818      1.379     -2.453      0.014      -6.084      -0.680\n",
       "time                -0.3461      1.163     -0.298      0.766      -2.625       1.933\n",
       "titl                -0.7884      0.768     -1.026      0.305      -2.295       0.718\n",
       "trust                0.1170      0.574      0.204      0.839      -1.008       1.242\n",
       "unit                -1.3746      0.571     -2.409      0.016      -2.493      -0.256\n",
       "use                  0.0551      0.678      0.081      0.935      -1.274       1.384\n",
       "vehicl              -1.6181      0.368     -4.397      0.000      -2.339      -0.897\n",
       "violat              -1.4959      0.642     -2.328      0.020      -2.755      -0.237\n",
       "volum              -14.2975      7.799     -1.833      0.067     -29.582       0.987\n",
       "within              -1.0715      1.177     -0.910      0.363      -3.379       1.236\n",
       "work                -1.4969      0.941     -1.591      0.112      -3.341       0.348\n",
       "year                 1.4225      0.567      2.508      0.012       0.311       2.534\n",
       "====================================================================================\n",
       "\"\"\""
      ]
     },
     "execution_count": 65,
     "metadata": {},
     "output_type": "execute_result"
    }
   ],
   "source": [
    "bill_results = smf.logit(bill_formula, data=bill_df).fit()\n",
    "bill_results.summary()"
   ]
  },
  {
   "cell_type": "markdown",
   "metadata": {},
   "source": [
    "Check how well the model is doing with AUC of the ROC."
   ]
  },
  {
   "cell_type": "code",
   "execution_count": 66,
   "metadata": {
    "collapsed": false
   },
   "outputs": [
    {
     "name": "stdout",
     "output_type": "stream",
     "text": [
      "Area under the ROC curve: 0.8701667472988228\n"
     ]
    }
   ],
   "source": [
    "bill_pred = bill_results.predict(bill_df) # Predict probability\n",
    "bill_score = roc_auc_score(bill_df['enacted'], bill_pred)\n",
    "print 'Area under the ROC curve: ' + str(bill_score)"
   ]
  },
  {
   "cell_type": "markdown",
   "metadata": {},
   "source": [
    "It's significantly higher than 0.5, so the model has predictive power.\n",
    "\n",
    "I now look at the statistically significant coefficients which are the most predictive. I again use the Bonferroni correction to determine statistical significance, where I choose a significance level of 5%."
   ]
  },
  {
   "cell_type": "code",
   "execution_count": 67,
   "metadata": {
    "collapsed": false
   },
   "outputs": [
    {
     "data": {
      "text/html": [
       "<div>\n",
       "<style scoped>\n",
       "    .dataframe tbody tr th:only-of-type {\n",
       "        vertical-align: middle;\n",
       "    }\n",
       "\n",
       "    .dataframe tbody tr th {\n",
       "        vertical-align: top;\n",
       "    }\n",
       "\n",
       "    .dataframe thead th {\n",
       "        text-align: right;\n",
       "    }\n",
       "</style>\n",
       "<table border=\"1\" class=\"dataframe\">\n",
       "  <thead>\n",
       "    <tr style=\"text-align: right;\">\n",
       "      <th></th>\n",
       "      <th>params</th>\n",
       "      <th>pvalues</th>\n",
       "    </tr>\n",
       "  </thead>\n",
       "  <tbody>\n",
       "    <tr>\n",
       "      <th>bill</th>\n",
       "      <td>-20.922183</td>\n",
       "      <td>8.022165e-06</td>\n",
       "    </tr>\n",
       "    <tr>\n",
       "      <th>loan</th>\n",
       "      <td>-5.188001</td>\n",
       "      <td>4.323185e-05</td>\n",
       "    </tr>\n",
       "    <tr>\n",
       "      <th>author</th>\n",
       "      <td>-3.701430</td>\n",
       "      <td>2.150872e-04</td>\n",
       "    </tr>\n",
       "    <tr>\n",
       "      <th>plan</th>\n",
       "      <td>-3.336195</td>\n",
       "      <td>6.442798e-07</td>\n",
       "    </tr>\n",
       "    <tr>\n",
       "      <th>offic</th>\n",
       "      <td>-2.307208</td>\n",
       "      <td>1.892576e-04</td>\n",
       "    </tr>\n",
       "    <tr>\n",
       "      <th>court</th>\n",
       "      <td>-2.158420</td>\n",
       "      <td>2.373424e-06</td>\n",
       "    </tr>\n",
       "    <tr>\n",
       "      <th>person</th>\n",
       "      <td>-2.047443</td>\n",
       "      <td>9.575854e-06</td>\n",
       "    </tr>\n",
       "    <tr>\n",
       "      <th>tax</th>\n",
       "      <td>-1.957656</td>\n",
       "      <td>1.927920e-05</td>\n",
       "    </tr>\n",
       "    <tr>\n",
       "      <th>elect</th>\n",
       "      <td>-1.917245</td>\n",
       "      <td>2.913296e-04</td>\n",
       "    </tr>\n",
       "    <tr>\n",
       "      <th>vehicl</th>\n",
       "      <td>-1.618054</td>\n",
       "      <td>1.098065e-05</td>\n",
       "    </tr>\n",
       "    <tr>\n",
       "      <th>Intercept</th>\n",
       "      <td>1.439917</td>\n",
       "      <td>1.491385e-04</td>\n",
       "    </tr>\n",
       "    <tr>\n",
       "      <th>may</th>\n",
       "      <td>6.952628</td>\n",
       "      <td>1.198027e-11</td>\n",
       "    </tr>\n",
       "    <tr>\n",
       "      <th>maryland</th>\n",
       "      <td>7.358663</td>\n",
       "      <td>2.475439e-17</td>\n",
       "    </tr>\n",
       "    <tr>\n",
       "      <th>law</th>\n",
       "      <td>8.162705</td>\n",
       "      <td>1.144247e-18</td>\n",
       "    </tr>\n",
       "    <tr>\n",
       "      <th>approv</th>\n",
       "      <td>11.475658</td>\n",
       "      <td>3.278524e-33</td>\n",
       "    </tr>\n",
       "    <tr>\n",
       "      <th>replac</th>\n",
       "      <td>13.105187</td>\n",
       "      <td>7.782721e-05</td>\n",
       "    </tr>\n",
       "  </tbody>\n",
       "</table>\n",
       "</div>"
      ],
      "text/plain": [
       "              params       pvalues\n",
       "bill      -20.922183  8.022165e-06\n",
       "loan       -5.188001  4.323185e-05\n",
       "author     -3.701430  2.150872e-04\n",
       "plan       -3.336195  6.442798e-07\n",
       "offic      -2.307208  1.892576e-04\n",
       "court      -2.158420  2.373424e-06\n",
       "person     -2.047443  9.575854e-06\n",
       "tax        -1.957656  1.927920e-05\n",
       "elect      -1.917245  2.913296e-04\n",
       "vehicl     -1.618054  1.098065e-05\n",
       "Intercept   1.439917  1.491385e-04\n",
       "may         6.952628  1.198027e-11\n",
       "maryland    7.358663  2.475439e-17\n",
       "law         8.162705  1.144247e-18\n",
       "approv     11.475658  3.278524e-33\n",
       "replac     13.105187  7.782721e-05"
      ]
     },
     "execution_count": 67,
     "metadata": {},
     "output_type": "execute_result"
    }
   ],
   "source": [
    "bill_params = pd.DataFrame([bill_results.params, bill_results.pvalues], index = ['params','pvalues'])\n",
    "bill_params = bill_params.transpose()\n",
    "bill_params[bill_params.pvalues < 0.05/(bill_df.shape[1] - 1)].sort_values(by = ['params'])"
   ]
  },
  {
   "cell_type": "markdown",
   "metadata": {},
   "source": [
    "We see that the world `replac` (essentially \"replace\") is the most predictive of an enacted bill. Unsurprisingly, `approv` is also very predictive, but that is probably not surprising for a bill that was \"approved.\""
   ]
  }
 ],
 "metadata": {
  "kernelspec": {
   "display_name": "Python 2",
   "language": "python",
   "name": "python2"
  },
  "language_info": {
   "codemirror_mode": {
    "name": "ipython",
    "version": 2
   },
   "file_extension": ".py",
   "mimetype": "text/x-python",
   "name": "python",
   "nbconvert_exporter": "python",
   "pygments_lexer": "ipython2",
   "version": "2.7.13"
  }
 },
 "nbformat": 4,
 "nbformat_minor": 2
}
